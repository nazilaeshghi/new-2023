{
  "nbformat": 4,
  "nbformat_minor": 0,
  "metadata": {
    "colab": {
      "name": "Tranfer Learning of CIFAR10 using Imagenet pretrained model.ipynb",
      "provenance": [],
      "collapsed_sections": []
    },
    "kernelspec": {
      "name": "python3",
      "display_name": "Python 3"
    },
    "language_info": {
      "name": "python"
    },
    "accelerator": "GPU",
    "gpuClass": "standard",
    "widgets": {
      "application/vnd.jupyter.widget-state+json": {
        "16b468e37e304b44bacabf23e80952b0": {
          "model_module": "@jupyter-widgets/controls",
          "model_name": "HBoxModel",
          "model_module_version": "1.5.0",
          "state": {
            "_dom_classes": [],
            "_model_module": "@jupyter-widgets/controls",
            "_model_module_version": "1.5.0",
            "_model_name": "HBoxModel",
            "_view_count": null,
            "_view_module": "@jupyter-widgets/controls",
            "_view_module_version": "1.5.0",
            "_view_name": "HBoxView",
            "box_style": "",
            "children": [
              "IPY_MODEL_593f5ff952bd4f9680abad2b1c5d9a2b",
              "IPY_MODEL_8532209936224806b0d9f4fa2f794036",
              "IPY_MODEL_acd6598fe50a4f9786f1e38fce616e33"
            ],
            "layout": "IPY_MODEL_50e807ba97dc4082959b72c42b4c3e19"
          }
        },
        "593f5ff952bd4f9680abad2b1c5d9a2b": {
          "model_module": "@jupyter-widgets/controls",
          "model_name": "HTMLModel",
          "model_module_version": "1.5.0",
          "state": {
            "_dom_classes": [],
            "_model_module": "@jupyter-widgets/controls",
            "_model_module_version": "1.5.0",
            "_model_name": "HTMLModel",
            "_view_count": null,
            "_view_module": "@jupyter-widgets/controls",
            "_view_module_version": "1.5.0",
            "_view_name": "HTMLView",
            "description": "",
            "description_tooltip": null,
            "layout": "IPY_MODEL_63d39a2a982d4fba88b7809b8f3b1163",
            "placeholder": "​",
            "style": "IPY_MODEL_ab55319fbbe14fb1830ea2a1fbcc89f0",
            "value": "100%"
          }
        },
        "8532209936224806b0d9f4fa2f794036": {
          "model_module": "@jupyter-widgets/controls",
          "model_name": "FloatProgressModel",
          "model_module_version": "1.5.0",
          "state": {
            "_dom_classes": [],
            "_model_module": "@jupyter-widgets/controls",
            "_model_module_version": "1.5.0",
            "_model_name": "FloatProgressModel",
            "_view_count": null,
            "_view_module": "@jupyter-widgets/controls",
            "_view_module_version": "1.5.0",
            "_view_name": "ProgressView",
            "bar_style": "success",
            "description": "",
            "description_tooltip": null,
            "layout": "IPY_MODEL_504b7d31aefa40eda84be747fb5487d1",
            "max": 46830571,
            "min": 0,
            "orientation": "horizontal",
            "style": "IPY_MODEL_693cdc00cc114239b10fa2f845cb42b5",
            "value": 46830571
          }
        },
        "acd6598fe50a4f9786f1e38fce616e33": {
          "model_module": "@jupyter-widgets/controls",
          "model_name": "HTMLModel",
          "model_module_version": "1.5.0",
          "state": {
            "_dom_classes": [],
            "_model_module": "@jupyter-widgets/controls",
            "_model_module_version": "1.5.0",
            "_model_name": "HTMLModel",
            "_view_count": null,
            "_view_module": "@jupyter-widgets/controls",
            "_view_module_version": "1.5.0",
            "_view_name": "HTMLView",
            "description": "",
            "description_tooltip": null,
            "layout": "IPY_MODEL_099d44bc6af247da86fb27ec5cbe227d",
            "placeholder": "​",
            "style": "IPY_MODEL_20f10e614aca4a70a441a318e5b7e513",
            "value": " 44.7M/44.7M [00:00&lt;00:00, 71.4MB/s]"
          }
        },
        "50e807ba97dc4082959b72c42b4c3e19": {
          "model_module": "@jupyter-widgets/base",
          "model_name": "LayoutModel",
          "model_module_version": "1.2.0",
          "state": {
            "_model_module": "@jupyter-widgets/base",
            "_model_module_version": "1.2.0",
            "_model_name": "LayoutModel",
            "_view_count": null,
            "_view_module": "@jupyter-widgets/base",
            "_view_module_version": "1.2.0",
            "_view_name": "LayoutView",
            "align_content": null,
            "align_items": null,
            "align_self": null,
            "border": null,
            "bottom": null,
            "display": null,
            "flex": null,
            "flex_flow": null,
            "grid_area": null,
            "grid_auto_columns": null,
            "grid_auto_flow": null,
            "grid_auto_rows": null,
            "grid_column": null,
            "grid_gap": null,
            "grid_row": null,
            "grid_template_areas": null,
            "grid_template_columns": null,
            "grid_template_rows": null,
            "height": null,
            "justify_content": null,
            "justify_items": null,
            "left": null,
            "margin": null,
            "max_height": null,
            "max_width": null,
            "min_height": null,
            "min_width": null,
            "object_fit": null,
            "object_position": null,
            "order": null,
            "overflow": null,
            "overflow_x": null,
            "overflow_y": null,
            "padding": null,
            "right": null,
            "top": null,
            "visibility": null,
            "width": null
          }
        },
        "63d39a2a982d4fba88b7809b8f3b1163": {
          "model_module": "@jupyter-widgets/base",
          "model_name": "LayoutModel",
          "model_module_version": "1.2.0",
          "state": {
            "_model_module": "@jupyter-widgets/base",
            "_model_module_version": "1.2.0",
            "_model_name": "LayoutModel",
            "_view_count": null,
            "_view_module": "@jupyter-widgets/base",
            "_view_module_version": "1.2.0",
            "_view_name": "LayoutView",
            "align_content": null,
            "align_items": null,
            "align_self": null,
            "border": null,
            "bottom": null,
            "display": null,
            "flex": null,
            "flex_flow": null,
            "grid_area": null,
            "grid_auto_columns": null,
            "grid_auto_flow": null,
            "grid_auto_rows": null,
            "grid_column": null,
            "grid_gap": null,
            "grid_row": null,
            "grid_template_areas": null,
            "grid_template_columns": null,
            "grid_template_rows": null,
            "height": null,
            "justify_content": null,
            "justify_items": null,
            "left": null,
            "margin": null,
            "max_height": null,
            "max_width": null,
            "min_height": null,
            "min_width": null,
            "object_fit": null,
            "object_position": null,
            "order": null,
            "overflow": null,
            "overflow_x": null,
            "overflow_y": null,
            "padding": null,
            "right": null,
            "top": null,
            "visibility": null,
            "width": null
          }
        },
        "ab55319fbbe14fb1830ea2a1fbcc89f0": {
          "model_module": "@jupyter-widgets/controls",
          "model_name": "DescriptionStyleModel",
          "model_module_version": "1.5.0",
          "state": {
            "_model_module": "@jupyter-widgets/controls",
            "_model_module_version": "1.5.0",
            "_model_name": "DescriptionStyleModel",
            "_view_count": null,
            "_view_module": "@jupyter-widgets/base",
            "_view_module_version": "1.2.0",
            "_view_name": "StyleView",
            "description_width": ""
          }
        },
        "504b7d31aefa40eda84be747fb5487d1": {
          "model_module": "@jupyter-widgets/base",
          "model_name": "LayoutModel",
          "model_module_version": "1.2.0",
          "state": {
            "_model_module": "@jupyter-widgets/base",
            "_model_module_version": "1.2.0",
            "_model_name": "LayoutModel",
            "_view_count": null,
            "_view_module": "@jupyter-widgets/base",
            "_view_module_version": "1.2.0",
            "_view_name": "LayoutView",
            "align_content": null,
            "align_items": null,
            "align_self": null,
            "border": null,
            "bottom": null,
            "display": null,
            "flex": null,
            "flex_flow": null,
            "grid_area": null,
            "grid_auto_columns": null,
            "grid_auto_flow": null,
            "grid_auto_rows": null,
            "grid_column": null,
            "grid_gap": null,
            "grid_row": null,
            "grid_template_areas": null,
            "grid_template_columns": null,
            "grid_template_rows": null,
            "height": null,
            "justify_content": null,
            "justify_items": null,
            "left": null,
            "margin": null,
            "max_height": null,
            "max_width": null,
            "min_height": null,
            "min_width": null,
            "object_fit": null,
            "object_position": null,
            "order": null,
            "overflow": null,
            "overflow_x": null,
            "overflow_y": null,
            "padding": null,
            "right": null,
            "top": null,
            "visibility": null,
            "width": null
          }
        },
        "693cdc00cc114239b10fa2f845cb42b5": {
          "model_module": "@jupyter-widgets/controls",
          "model_name": "ProgressStyleModel",
          "model_module_version": "1.5.0",
          "state": {
            "_model_module": "@jupyter-widgets/controls",
            "_model_module_version": "1.5.0",
            "_model_name": "ProgressStyleModel",
            "_view_count": null,
            "_view_module": "@jupyter-widgets/base",
            "_view_module_version": "1.2.0",
            "_view_name": "StyleView",
            "bar_color": null,
            "description_width": ""
          }
        },
        "099d44bc6af247da86fb27ec5cbe227d": {
          "model_module": "@jupyter-widgets/base",
          "model_name": "LayoutModel",
          "model_module_version": "1.2.0",
          "state": {
            "_model_module": "@jupyter-widgets/base",
            "_model_module_version": "1.2.0",
            "_model_name": "LayoutModel",
            "_view_count": null,
            "_view_module": "@jupyter-widgets/base",
            "_view_module_version": "1.2.0",
            "_view_name": "LayoutView",
            "align_content": null,
            "align_items": null,
            "align_self": null,
            "border": null,
            "bottom": null,
            "display": null,
            "flex": null,
            "flex_flow": null,
            "grid_area": null,
            "grid_auto_columns": null,
            "grid_auto_flow": null,
            "grid_auto_rows": null,
            "grid_column": null,
            "grid_gap": null,
            "grid_row": null,
            "grid_template_areas": null,
            "grid_template_columns": null,
            "grid_template_rows": null,
            "height": null,
            "justify_content": null,
            "justify_items": null,
            "left": null,
            "margin": null,
            "max_height": null,
            "max_width": null,
            "min_height": null,
            "min_width": null,
            "object_fit": null,
            "object_position": null,
            "order": null,
            "overflow": null,
            "overflow_x": null,
            "overflow_y": null,
            "padding": null,
            "right": null,
            "top": null,
            "visibility": null,
            "width": null
          }
        },
        "20f10e614aca4a70a441a318e5b7e513": {
          "model_module": "@jupyter-widgets/controls",
          "model_name": "DescriptionStyleModel",
          "model_module_version": "1.5.0",
          "state": {
            "_model_module": "@jupyter-widgets/controls",
            "_model_module_version": "1.5.0",
            "_model_name": "DescriptionStyleModel",
            "_view_count": null,
            "_view_module": "@jupyter-widgets/base",
            "_view_module_version": "1.2.0",
            "_view_name": "StyleView",
            "description_width": ""
          }
        },
        "d7899d2d63a04b8f8003605f64aceb37": {
          "model_module": "@jupyter-widgets/controls",
          "model_name": "HBoxModel",
          "model_module_version": "1.5.0",
          "state": {
            "_dom_classes": [],
            "_model_module": "@jupyter-widgets/controls",
            "_model_module_version": "1.5.0",
            "_model_name": "HBoxModel",
            "_view_count": null,
            "_view_module": "@jupyter-widgets/controls",
            "_view_module_version": "1.5.0",
            "_view_name": "HBoxView",
            "box_style": "",
            "children": [
              "IPY_MODEL_31c0390a3f4344f280b8ded46b2f9c27",
              "IPY_MODEL_9468143244374bca9c5eab9640934d4e",
              "IPY_MODEL_7c8c3166502f4ec1bf98a9b69f42af93"
            ],
            "layout": "IPY_MODEL_b2a0811714ef4d5bb8ff027dc0f03ca5"
          }
        },
        "31c0390a3f4344f280b8ded46b2f9c27": {
          "model_module": "@jupyter-widgets/controls",
          "model_name": "HTMLModel",
          "model_module_version": "1.5.0",
          "state": {
            "_dom_classes": [],
            "_model_module": "@jupyter-widgets/controls",
            "_model_module_version": "1.5.0",
            "_model_name": "HTMLModel",
            "_view_count": null,
            "_view_module": "@jupyter-widgets/controls",
            "_view_module_version": "1.5.0",
            "_view_name": "HTMLView",
            "description": "",
            "description_tooltip": null,
            "layout": "IPY_MODEL_d3ac7c9f39a543ef8d17b34a4b61c15b",
            "placeholder": "​",
            "style": "IPY_MODEL_0dd42ddbde1147889f56f963a58f97a4",
            "value": ""
          }
        },
        "9468143244374bca9c5eab9640934d4e": {
          "model_module": "@jupyter-widgets/controls",
          "model_name": "FloatProgressModel",
          "model_module_version": "1.5.0",
          "state": {
            "_dom_classes": [],
            "_model_module": "@jupyter-widgets/controls",
            "_model_module_version": "1.5.0",
            "_model_name": "FloatProgressModel",
            "_view_count": null,
            "_view_module": "@jupyter-widgets/controls",
            "_view_module_version": "1.5.0",
            "_view_name": "ProgressView",
            "bar_style": "success",
            "description": "",
            "description_tooltip": null,
            "layout": "IPY_MODEL_973edb7c2e1f4dcebf2bb89ab22b8156",
            "max": 170498071,
            "min": 0,
            "orientation": "horizontal",
            "style": "IPY_MODEL_1210740fdd804f4db3945821ffbe2f89",
            "value": 170498071
          }
        },
        "7c8c3166502f4ec1bf98a9b69f42af93": {
          "model_module": "@jupyter-widgets/controls",
          "model_name": "HTMLModel",
          "model_module_version": "1.5.0",
          "state": {
            "_dom_classes": [],
            "_model_module": "@jupyter-widgets/controls",
            "_model_module_version": "1.5.0",
            "_model_name": "HTMLModel",
            "_view_count": null,
            "_view_module": "@jupyter-widgets/controls",
            "_view_module_version": "1.5.0",
            "_view_name": "HTMLView",
            "description": "",
            "description_tooltip": null,
            "layout": "IPY_MODEL_9724cdd8334042f4b64e3d69fb50a493",
            "placeholder": "​",
            "style": "IPY_MODEL_40527f71af9a48f1956085f4d99fbdb3",
            "value": " 170499072/? [00:13&lt;00:00, 14628245.29it/s]"
          }
        },
        "b2a0811714ef4d5bb8ff027dc0f03ca5": {
          "model_module": "@jupyter-widgets/base",
          "model_name": "LayoutModel",
          "model_module_version": "1.2.0",
          "state": {
            "_model_module": "@jupyter-widgets/base",
            "_model_module_version": "1.2.0",
            "_model_name": "LayoutModel",
            "_view_count": null,
            "_view_module": "@jupyter-widgets/base",
            "_view_module_version": "1.2.0",
            "_view_name": "LayoutView",
            "align_content": null,
            "align_items": null,
            "align_self": null,
            "border": null,
            "bottom": null,
            "display": null,
            "flex": null,
            "flex_flow": null,
            "grid_area": null,
            "grid_auto_columns": null,
            "grid_auto_flow": null,
            "grid_auto_rows": null,
            "grid_column": null,
            "grid_gap": null,
            "grid_row": null,
            "grid_template_areas": null,
            "grid_template_columns": null,
            "grid_template_rows": null,
            "height": null,
            "justify_content": null,
            "justify_items": null,
            "left": null,
            "margin": null,
            "max_height": null,
            "max_width": null,
            "min_height": null,
            "min_width": null,
            "object_fit": null,
            "object_position": null,
            "order": null,
            "overflow": null,
            "overflow_x": null,
            "overflow_y": null,
            "padding": null,
            "right": null,
            "top": null,
            "visibility": null,
            "width": null
          }
        },
        "d3ac7c9f39a543ef8d17b34a4b61c15b": {
          "model_module": "@jupyter-widgets/base",
          "model_name": "LayoutModel",
          "model_module_version": "1.2.0",
          "state": {
            "_model_module": "@jupyter-widgets/base",
            "_model_module_version": "1.2.0",
            "_model_name": "LayoutModel",
            "_view_count": null,
            "_view_module": "@jupyter-widgets/base",
            "_view_module_version": "1.2.0",
            "_view_name": "LayoutView",
            "align_content": null,
            "align_items": null,
            "align_self": null,
            "border": null,
            "bottom": null,
            "display": null,
            "flex": null,
            "flex_flow": null,
            "grid_area": null,
            "grid_auto_columns": null,
            "grid_auto_flow": null,
            "grid_auto_rows": null,
            "grid_column": null,
            "grid_gap": null,
            "grid_row": null,
            "grid_template_areas": null,
            "grid_template_columns": null,
            "grid_template_rows": null,
            "height": null,
            "justify_content": null,
            "justify_items": null,
            "left": null,
            "margin": null,
            "max_height": null,
            "max_width": null,
            "min_height": null,
            "min_width": null,
            "object_fit": null,
            "object_position": null,
            "order": null,
            "overflow": null,
            "overflow_x": null,
            "overflow_y": null,
            "padding": null,
            "right": null,
            "top": null,
            "visibility": null,
            "width": null
          }
        },
        "0dd42ddbde1147889f56f963a58f97a4": {
          "model_module": "@jupyter-widgets/controls",
          "model_name": "DescriptionStyleModel",
          "model_module_version": "1.5.0",
          "state": {
            "_model_module": "@jupyter-widgets/controls",
            "_model_module_version": "1.5.0",
            "_model_name": "DescriptionStyleModel",
            "_view_count": null,
            "_view_module": "@jupyter-widgets/base",
            "_view_module_version": "1.2.0",
            "_view_name": "StyleView",
            "description_width": ""
          }
        },
        "973edb7c2e1f4dcebf2bb89ab22b8156": {
          "model_module": "@jupyter-widgets/base",
          "model_name": "LayoutModel",
          "model_module_version": "1.2.0",
          "state": {
            "_model_module": "@jupyter-widgets/base",
            "_model_module_version": "1.2.0",
            "_model_name": "LayoutModel",
            "_view_count": null,
            "_view_module": "@jupyter-widgets/base",
            "_view_module_version": "1.2.0",
            "_view_name": "LayoutView",
            "align_content": null,
            "align_items": null,
            "align_self": null,
            "border": null,
            "bottom": null,
            "display": null,
            "flex": null,
            "flex_flow": null,
            "grid_area": null,
            "grid_auto_columns": null,
            "grid_auto_flow": null,
            "grid_auto_rows": null,
            "grid_column": null,
            "grid_gap": null,
            "grid_row": null,
            "grid_template_areas": null,
            "grid_template_columns": null,
            "grid_template_rows": null,
            "height": null,
            "justify_content": null,
            "justify_items": null,
            "left": null,
            "margin": null,
            "max_height": null,
            "max_width": null,
            "min_height": null,
            "min_width": null,
            "object_fit": null,
            "object_position": null,
            "order": null,
            "overflow": null,
            "overflow_x": null,
            "overflow_y": null,
            "padding": null,
            "right": null,
            "top": null,
            "visibility": null,
            "width": null
          }
        },
        "1210740fdd804f4db3945821ffbe2f89": {
          "model_module": "@jupyter-widgets/controls",
          "model_name": "ProgressStyleModel",
          "model_module_version": "1.5.0",
          "state": {
            "_model_module": "@jupyter-widgets/controls",
            "_model_module_version": "1.5.0",
            "_model_name": "ProgressStyleModel",
            "_view_count": null,
            "_view_module": "@jupyter-widgets/base",
            "_view_module_version": "1.2.0",
            "_view_name": "StyleView",
            "bar_color": null,
            "description_width": ""
          }
        },
        "9724cdd8334042f4b64e3d69fb50a493": {
          "model_module": "@jupyter-widgets/base",
          "model_name": "LayoutModel",
          "model_module_version": "1.2.0",
          "state": {
            "_model_module": "@jupyter-widgets/base",
            "_model_module_version": "1.2.0",
            "_model_name": "LayoutModel",
            "_view_count": null,
            "_view_module": "@jupyter-widgets/base",
            "_view_module_version": "1.2.0",
            "_view_name": "LayoutView",
            "align_content": null,
            "align_items": null,
            "align_self": null,
            "border": null,
            "bottom": null,
            "display": null,
            "flex": null,
            "flex_flow": null,
            "grid_area": null,
            "grid_auto_columns": null,
            "grid_auto_flow": null,
            "grid_auto_rows": null,
            "grid_column": null,
            "grid_gap": null,
            "grid_row": null,
            "grid_template_areas": null,
            "grid_template_columns": null,
            "grid_template_rows": null,
            "height": null,
            "justify_content": null,
            "justify_items": null,
            "left": null,
            "margin": null,
            "max_height": null,
            "max_width": null,
            "min_height": null,
            "min_width": null,
            "object_fit": null,
            "object_position": null,
            "order": null,
            "overflow": null,
            "overflow_x": null,
            "overflow_y": null,
            "padding": null,
            "right": null,
            "top": null,
            "visibility": null,
            "width": null
          }
        },
        "40527f71af9a48f1956085f4d99fbdb3": {
          "model_module": "@jupyter-widgets/controls",
          "model_name": "DescriptionStyleModel",
          "model_module_version": "1.5.0",
          "state": {
            "_model_module": "@jupyter-widgets/controls",
            "_model_module_version": "1.5.0",
            "_model_name": "DescriptionStyleModel",
            "_view_count": null,
            "_view_module": "@jupyter-widgets/base",
            "_view_module_version": "1.2.0",
            "_view_name": "StyleView",
            "description_width": ""
          }
        }
      }
    }
  },
  "cells": [
    {
      "cell_type": "code",
      "execution_count": 1,
      "metadata": {
        "id": "CMpyfitHIZeV"
      },
      "outputs": [],
      "source": [
        "import os\n",
        "import sys\n",
        "import time\n",
        "\n",
        "import torch.nn as nn\n",
        "import torch.nn.init as init"
      ]
    },
    {
      "cell_type": "code",
      "source": [
        "import torch\n",
        "import torch.nn as nn\n",
        "import torch.nn.functional as F\n"
      ],
      "metadata": {
        "id": "MqbVnBwhThdJ"
      },
      "execution_count": 2,
      "outputs": []
    },
    {
      "cell_type": "code",
      "source": [
        "#Loading Pretrained model\n",
        "import torch\n",
        "model = torch.hub.load('pytorch/vision:v0.10.0', 'resnet18', pretrained=True)"
      ],
      "metadata": {
        "colab": {
          "base_uri": "https://localhost:8080/",
          "height": 84,
          "referenced_widgets": [
            "16b468e37e304b44bacabf23e80952b0",
            "593f5ff952bd4f9680abad2b1c5d9a2b",
            "8532209936224806b0d9f4fa2f794036",
            "acd6598fe50a4f9786f1e38fce616e33",
            "50e807ba97dc4082959b72c42b4c3e19",
            "63d39a2a982d4fba88b7809b8f3b1163",
            "ab55319fbbe14fb1830ea2a1fbcc89f0",
            "504b7d31aefa40eda84be747fb5487d1",
            "693cdc00cc114239b10fa2f845cb42b5",
            "099d44bc6af247da86fb27ec5cbe227d",
            "20f10e614aca4a70a441a318e5b7e513"
          ]
        },
        "id": "F35JXMisTils",
        "outputId": "c16aa525-2ed5-4aee-ab58-d2d423190e0e"
      },
      "execution_count": 3,
      "outputs": [
        {
          "output_type": "stream",
          "name": "stderr",
          "text": [
            "Downloading: \"https://github.com/pytorch/vision/zipball/v0.10.0\" to /root/.cache/torch/hub/v0.10.0.zip\n",
            "Downloading: \"https://download.pytorch.org/models/resnet18-f37072fd.pth\" to /root/.cache/torch/hub/checkpoints/resnet18-f37072fd.pth\n"
          ]
        },
        {
          "output_type": "display_data",
          "data": {
            "text/plain": [
              "  0%|          | 0.00/44.7M [00:00<?, ?B/s]"
            ],
            "application/vnd.jupyter.widget-view+json": {
              "version_major": 2,
              "version_minor": 0,
              "model_id": "16b468e37e304b44bacabf23e80952b0"
            }
          },
          "metadata": {}
        }
      ]
    },
    {
      "cell_type": "code",
      "source": [
        "print(model.parameters)"
      ],
      "metadata": {
        "colab": {
          "base_uri": "https://localhost:8080/"
        },
        "id": "dWlPUl05T468",
        "outputId": "898bce7a-a0b4-4d06-d62a-abdef2d0e6e8"
      },
      "execution_count": null,
      "outputs": [
        {
          "output_type": "stream",
          "name": "stdout",
          "text": [
            "<bound method Module.parameters of ResNet(\n",
            "  (conv1): Conv2d(3, 64, kernel_size=(7, 7), stride=(2, 2), padding=(3, 3), bias=False)\n",
            "  (bn1): BatchNorm2d(64, eps=1e-05, momentum=0.1, affine=True, track_running_stats=True)\n",
            "  (relu): ReLU(inplace=True)\n",
            "  (maxpool): MaxPool2d(kernel_size=3, stride=2, padding=1, dilation=1, ceil_mode=False)\n",
            "  (layer1): Sequential(\n",
            "    (0): BasicBlock(\n",
            "      (conv1): Conv2d(64, 64, kernel_size=(3, 3), stride=(1, 1), padding=(1, 1), bias=False)\n",
            "      (bn1): BatchNorm2d(64, eps=1e-05, momentum=0.1, affine=True, track_running_stats=True)\n",
            "      (relu): ReLU(inplace=True)\n",
            "      (conv2): Conv2d(64, 64, kernel_size=(3, 3), stride=(1, 1), padding=(1, 1), bias=False)\n",
            "      (bn2): BatchNorm2d(64, eps=1e-05, momentum=0.1, affine=True, track_running_stats=True)\n",
            "    )\n",
            "    (1): BasicBlock(\n",
            "      (conv1): Conv2d(64, 64, kernel_size=(3, 3), stride=(1, 1), padding=(1, 1), bias=False)\n",
            "      (bn1): BatchNorm2d(64, eps=1e-05, momentum=0.1, affine=True, track_running_stats=True)\n",
            "      (relu): ReLU(inplace=True)\n",
            "      (conv2): Conv2d(64, 64, kernel_size=(3, 3), stride=(1, 1), padding=(1, 1), bias=False)\n",
            "      (bn2): BatchNorm2d(64, eps=1e-05, momentum=0.1, affine=True, track_running_stats=True)\n",
            "    )\n",
            "  )\n",
            "  (layer2): Sequential(\n",
            "    (0): BasicBlock(\n",
            "      (conv1): Conv2d(64, 128, kernel_size=(3, 3), stride=(2, 2), padding=(1, 1), bias=False)\n",
            "      (bn1): BatchNorm2d(128, eps=1e-05, momentum=0.1, affine=True, track_running_stats=True)\n",
            "      (relu): ReLU(inplace=True)\n",
            "      (conv2): Conv2d(128, 128, kernel_size=(3, 3), stride=(1, 1), padding=(1, 1), bias=False)\n",
            "      (bn2): BatchNorm2d(128, eps=1e-05, momentum=0.1, affine=True, track_running_stats=True)\n",
            "      (downsample): Sequential(\n",
            "        (0): Conv2d(64, 128, kernel_size=(1, 1), stride=(2, 2), bias=False)\n",
            "        (1): BatchNorm2d(128, eps=1e-05, momentum=0.1, affine=True, track_running_stats=True)\n",
            "      )\n",
            "    )\n",
            "    (1): BasicBlock(\n",
            "      (conv1): Conv2d(128, 128, kernel_size=(3, 3), stride=(1, 1), padding=(1, 1), bias=False)\n",
            "      (bn1): BatchNorm2d(128, eps=1e-05, momentum=0.1, affine=True, track_running_stats=True)\n",
            "      (relu): ReLU(inplace=True)\n",
            "      (conv2): Conv2d(128, 128, kernel_size=(3, 3), stride=(1, 1), padding=(1, 1), bias=False)\n",
            "      (bn2): BatchNorm2d(128, eps=1e-05, momentum=0.1, affine=True, track_running_stats=True)\n",
            "    )\n",
            "  )\n",
            "  (layer3): Sequential(\n",
            "    (0): BasicBlock(\n",
            "      (conv1): Conv2d(128, 256, kernel_size=(3, 3), stride=(2, 2), padding=(1, 1), bias=False)\n",
            "      (bn1): BatchNorm2d(256, eps=1e-05, momentum=0.1, affine=True, track_running_stats=True)\n",
            "      (relu): ReLU(inplace=True)\n",
            "      (conv2): Conv2d(256, 256, kernel_size=(3, 3), stride=(1, 1), padding=(1, 1), bias=False)\n",
            "      (bn2): BatchNorm2d(256, eps=1e-05, momentum=0.1, affine=True, track_running_stats=True)\n",
            "      (downsample): Sequential(\n",
            "        (0): Conv2d(128, 256, kernel_size=(1, 1), stride=(2, 2), bias=False)\n",
            "        (1): BatchNorm2d(256, eps=1e-05, momentum=0.1, affine=True, track_running_stats=True)\n",
            "      )\n",
            "    )\n",
            "    (1): BasicBlock(\n",
            "      (conv1): Conv2d(256, 256, kernel_size=(3, 3), stride=(1, 1), padding=(1, 1), bias=False)\n",
            "      (bn1): BatchNorm2d(256, eps=1e-05, momentum=0.1, affine=True, track_running_stats=True)\n",
            "      (relu): ReLU(inplace=True)\n",
            "      (conv2): Conv2d(256, 256, kernel_size=(3, 3), stride=(1, 1), padding=(1, 1), bias=False)\n",
            "      (bn2): BatchNorm2d(256, eps=1e-05, momentum=0.1, affine=True, track_running_stats=True)\n",
            "    )\n",
            "  )\n",
            "  (layer4): Sequential(\n",
            "    (0): BasicBlock(\n",
            "      (conv1): Conv2d(256, 512, kernel_size=(3, 3), stride=(2, 2), padding=(1, 1), bias=False)\n",
            "      (bn1): BatchNorm2d(512, eps=1e-05, momentum=0.1, affine=True, track_running_stats=True)\n",
            "      (relu): ReLU(inplace=True)\n",
            "      (conv2): Conv2d(512, 512, kernel_size=(3, 3), stride=(1, 1), padding=(1, 1), bias=False)\n",
            "      (bn2): BatchNorm2d(512, eps=1e-05, momentum=0.1, affine=True, track_running_stats=True)\n",
            "      (downsample): Sequential(\n",
            "        (0): Conv2d(256, 512, kernel_size=(1, 1), stride=(2, 2), bias=False)\n",
            "        (1): BatchNorm2d(512, eps=1e-05, momentum=0.1, affine=True, track_running_stats=True)\n",
            "      )\n",
            "    )\n",
            "    (1): BasicBlock(\n",
            "      (conv1): Conv2d(512, 512, kernel_size=(3, 3), stride=(1, 1), padding=(1, 1), bias=False)\n",
            "      (bn1): BatchNorm2d(512, eps=1e-05, momentum=0.1, affine=True, track_running_stats=True)\n",
            "      (relu): ReLU(inplace=True)\n",
            "      (conv2): Conv2d(512, 512, kernel_size=(3, 3), stride=(1, 1), padding=(1, 1), bias=False)\n",
            "      (bn2): BatchNorm2d(512, eps=1e-05, momentum=0.1, affine=True, track_running_stats=True)\n",
            "    )\n",
            "  )\n",
            "  (avgpool): AdaptiveAvgPool2d(output_size=(1, 1))\n",
            "  (fc): Linear(in_features=512, out_features=1000, bias=True)\n",
            ")>\n"
          ]
        }
      ]
    },
    {
      "cell_type": "code",
      "source": [
        "#Replacing the output layer and freezing all the hidden layers excluding the replaced output layer\n",
        "model.fc = nn.Linear(512, 10)\n",
        "for param in model.parameters(): \n",
        "  param.requires_grad = False\n",
        "for param in model.fc.parameters(): \n",
        "  param.requires_grad = True\n"
      ],
      "metadata": {
        "id": "4X7s3tMaWwAC"
      },
      "execution_count": null,
      "outputs": []
    },
    {
      "cell_type": "code",
      "source": [
        "for param in model.parameters():\n",
        "  print(param.requires_grad)"
      ],
      "metadata": {
        "colab": {
          "base_uri": "https://localhost:8080/"
        },
        "id": "0JJPxme4gAnk",
        "outputId": "9ec690be-1065-470f-f097-fbe67ea22aa7"
      },
      "execution_count": null,
      "outputs": [
        {
          "output_type": "stream",
          "name": "stdout",
          "text": [
            "False\n",
            "False\n",
            "False\n",
            "False\n",
            "False\n",
            "False\n",
            "False\n",
            "False\n",
            "False\n",
            "False\n",
            "False\n",
            "False\n",
            "False\n",
            "False\n",
            "False\n",
            "False\n",
            "False\n",
            "False\n",
            "False\n",
            "False\n",
            "False\n",
            "False\n",
            "False\n",
            "False\n",
            "False\n",
            "False\n",
            "False\n",
            "False\n",
            "False\n",
            "False\n",
            "False\n",
            "False\n",
            "False\n",
            "False\n",
            "False\n",
            "False\n",
            "False\n",
            "False\n",
            "False\n",
            "False\n",
            "False\n",
            "False\n",
            "False\n",
            "False\n",
            "False\n",
            "False\n",
            "False\n",
            "False\n",
            "False\n",
            "False\n",
            "False\n",
            "False\n",
            "False\n",
            "False\n",
            "False\n",
            "False\n",
            "False\n",
            "False\n",
            "False\n",
            "False\n",
            "True\n",
            "True\n"
          ]
        }
      ]
    },
    {
      "cell_type": "code",
      "source": [
        "print(model.parameters)"
      ],
      "metadata": {
        "colab": {
          "base_uri": "https://localhost:8080/"
        },
        "id": "i33D13gHW4Ip",
        "outputId": "50a3da2b-d305-4929-e428-859fade565db"
      },
      "execution_count": null,
      "outputs": [
        {
          "output_type": "stream",
          "name": "stdout",
          "text": [
            "<bound method Module.parameters of ResNet(\n",
            "  (conv1): Conv2d(3, 64, kernel_size=(7, 7), stride=(2, 2), padding=(3, 3), bias=False)\n",
            "  (bn1): BatchNorm2d(64, eps=1e-05, momentum=0.1, affine=True, track_running_stats=True)\n",
            "  (relu): ReLU(inplace=True)\n",
            "  (maxpool): MaxPool2d(kernel_size=3, stride=2, padding=1, dilation=1, ceil_mode=False)\n",
            "  (layer1): Sequential(\n",
            "    (0): BasicBlock(\n",
            "      (conv1): Conv2d(64, 64, kernel_size=(3, 3), stride=(1, 1), padding=(1, 1), bias=False)\n",
            "      (bn1): BatchNorm2d(64, eps=1e-05, momentum=0.1, affine=True, track_running_stats=True)\n",
            "      (relu): ReLU(inplace=True)\n",
            "      (conv2): Conv2d(64, 64, kernel_size=(3, 3), stride=(1, 1), padding=(1, 1), bias=False)\n",
            "      (bn2): BatchNorm2d(64, eps=1e-05, momentum=0.1, affine=True, track_running_stats=True)\n",
            "    )\n",
            "    (1): BasicBlock(\n",
            "      (conv1): Conv2d(64, 64, kernel_size=(3, 3), stride=(1, 1), padding=(1, 1), bias=False)\n",
            "      (bn1): BatchNorm2d(64, eps=1e-05, momentum=0.1, affine=True, track_running_stats=True)\n",
            "      (relu): ReLU(inplace=True)\n",
            "      (conv2): Conv2d(64, 64, kernel_size=(3, 3), stride=(1, 1), padding=(1, 1), bias=False)\n",
            "      (bn2): BatchNorm2d(64, eps=1e-05, momentum=0.1, affine=True, track_running_stats=True)\n",
            "    )\n",
            "  )\n",
            "  (layer2): Sequential(\n",
            "    (0): BasicBlock(\n",
            "      (conv1): Conv2d(64, 128, kernel_size=(3, 3), stride=(2, 2), padding=(1, 1), bias=False)\n",
            "      (bn1): BatchNorm2d(128, eps=1e-05, momentum=0.1, affine=True, track_running_stats=True)\n",
            "      (relu): ReLU(inplace=True)\n",
            "      (conv2): Conv2d(128, 128, kernel_size=(3, 3), stride=(1, 1), padding=(1, 1), bias=False)\n",
            "      (bn2): BatchNorm2d(128, eps=1e-05, momentum=0.1, affine=True, track_running_stats=True)\n",
            "      (downsample): Sequential(\n",
            "        (0): Conv2d(64, 128, kernel_size=(1, 1), stride=(2, 2), bias=False)\n",
            "        (1): BatchNorm2d(128, eps=1e-05, momentum=0.1, affine=True, track_running_stats=True)\n",
            "      )\n",
            "    )\n",
            "    (1): BasicBlock(\n",
            "      (conv1): Conv2d(128, 128, kernel_size=(3, 3), stride=(1, 1), padding=(1, 1), bias=False)\n",
            "      (bn1): BatchNorm2d(128, eps=1e-05, momentum=0.1, affine=True, track_running_stats=True)\n",
            "      (relu): ReLU(inplace=True)\n",
            "      (conv2): Conv2d(128, 128, kernel_size=(3, 3), stride=(1, 1), padding=(1, 1), bias=False)\n",
            "      (bn2): BatchNorm2d(128, eps=1e-05, momentum=0.1, affine=True, track_running_stats=True)\n",
            "    )\n",
            "  )\n",
            "  (layer3): Sequential(\n",
            "    (0): BasicBlock(\n",
            "      (conv1): Conv2d(128, 256, kernel_size=(3, 3), stride=(2, 2), padding=(1, 1), bias=False)\n",
            "      (bn1): BatchNorm2d(256, eps=1e-05, momentum=0.1, affine=True, track_running_stats=True)\n",
            "      (relu): ReLU(inplace=True)\n",
            "      (conv2): Conv2d(256, 256, kernel_size=(3, 3), stride=(1, 1), padding=(1, 1), bias=False)\n",
            "      (bn2): BatchNorm2d(256, eps=1e-05, momentum=0.1, affine=True, track_running_stats=True)\n",
            "      (downsample): Sequential(\n",
            "        (0): Conv2d(128, 256, kernel_size=(1, 1), stride=(2, 2), bias=False)\n",
            "        (1): BatchNorm2d(256, eps=1e-05, momentum=0.1, affine=True, track_running_stats=True)\n",
            "      )\n",
            "    )\n",
            "    (1): BasicBlock(\n",
            "      (conv1): Conv2d(256, 256, kernel_size=(3, 3), stride=(1, 1), padding=(1, 1), bias=False)\n",
            "      (bn1): BatchNorm2d(256, eps=1e-05, momentum=0.1, affine=True, track_running_stats=True)\n",
            "      (relu): ReLU(inplace=True)\n",
            "      (conv2): Conv2d(256, 256, kernel_size=(3, 3), stride=(1, 1), padding=(1, 1), bias=False)\n",
            "      (bn2): BatchNorm2d(256, eps=1e-05, momentum=0.1, affine=True, track_running_stats=True)\n",
            "    )\n",
            "  )\n",
            "  (layer4): Sequential(\n",
            "    (0): BasicBlock(\n",
            "      (conv1): Conv2d(256, 512, kernel_size=(3, 3), stride=(2, 2), padding=(1, 1), bias=False)\n",
            "      (bn1): BatchNorm2d(512, eps=1e-05, momentum=0.1, affine=True, track_running_stats=True)\n",
            "      (relu): ReLU(inplace=True)\n",
            "      (conv2): Conv2d(512, 512, kernel_size=(3, 3), stride=(1, 1), padding=(1, 1), bias=False)\n",
            "      (bn2): BatchNorm2d(512, eps=1e-05, momentum=0.1, affine=True, track_running_stats=True)\n",
            "      (downsample): Sequential(\n",
            "        (0): Conv2d(256, 512, kernel_size=(1, 1), stride=(2, 2), bias=False)\n",
            "        (1): BatchNorm2d(512, eps=1e-05, momentum=0.1, affine=True, track_running_stats=True)\n",
            "      )\n",
            "    )\n",
            "    (1): BasicBlock(\n",
            "      (conv1): Conv2d(512, 512, kernel_size=(3, 3), stride=(1, 1), padding=(1, 1), bias=False)\n",
            "      (bn1): BatchNorm2d(512, eps=1e-05, momentum=0.1, affine=True, track_running_stats=True)\n",
            "      (relu): ReLU(inplace=True)\n",
            "      (conv2): Conv2d(512, 512, kernel_size=(3, 3), stride=(1, 1), padding=(1, 1), bias=False)\n",
            "      (bn2): BatchNorm2d(512, eps=1e-05, momentum=0.1, affine=True, track_running_stats=True)\n",
            "    )\n",
            "  )\n",
            "  (avgpool): AdaptiveAvgPool2d(output_size=(1, 1))\n",
            "  (fc): Linear(in_features=512, out_features=10, bias=True)\n",
            ")>\n"
          ]
        }
      ]
    },
    {
      "cell_type": "code",
      "source": [
        "#Defining Transformations\n",
        "import torch\n",
        "import torch.nn as nn\n",
        "import torch.optim as optim\n",
        "import torch.nn.functional as F\n",
        "import torch.backends.cudnn as cudnn\n",
        "\n",
        "import torchvision\n",
        "import torchvision.transforms as transforms\n",
        "\n",
        "import os\n",
        "import argparse\n",
        "\n",
        "\n",
        "device = 'cuda' if torch.cuda.is_available() else 'cpu'\n",
        "best_acc = 0  # best test accuracy\n",
        "start_epoch = 0  # start from epoch 0 or last checkpoint epoch\n",
        "\n",
        "# Data\n",
        "print('==> Preparing data..')\n",
        "transform_train = transforms.Compose([\n",
        "    transforms.Resize(256),\n",
        "    transforms.CenterCrop(224),\n",
        "    transforms.ToTensor(),\n",
        "    transforms.Normalize(mean=[0.485, 0.456, 0.406], std=[0.229, 0.224, 0.225]),\n",
        "])\n",
        "\n",
        "transform_test = transforms.Compose([\n",
        "    transforms.Resize(256),\n",
        "    transforms.CenterCrop(224),\n",
        "    transforms.ToTensor(),\n",
        "    transforms.Normalize(mean=[0.485, 0.456, 0.406], std=[0.229, 0.224, 0.225]),\n",
        "])\n"
      ],
      "metadata": {
        "colab": {
          "base_uri": "https://localhost:8080/"
        },
        "id": "K5MMaCX-06V3",
        "outputId": "d2e2c860-8902-4cde-daa4-07dd7563fc28"
      },
      "execution_count": 4,
      "outputs": [
        {
          "output_type": "stream",
          "name": "stdout",
          "text": [
            "==> Preparing data..\n"
          ]
        }
      ]
    },
    {
      "cell_type": "code",
      "source": [
        "#Loading Dataset and DataLoader\n",
        "trainset = torchvision.datasets.CIFAR10(\n",
        "    root='./data', train=True, download=True, transform=transform_train)\n",
        "\n",
        "\n",
        "trainset,validationset=torch.utils.data.random_split(trainset,[40000,10000])\n",
        "\n",
        "trainloader = torch.utils.data.DataLoader(\n",
        "    trainset, batch_size=60, shuffle=True, num_workers=2)\n",
        "validationloader = torch.utils.data.DataLoader(\n",
        "    validationset, batch_size=60, shuffle=True, num_workers=2)\n",
        "\n",
        "testset = torchvision.datasets.CIFAR10(\n",
        "    root='./data', train=False, download=True, transform=transform_test)\n",
        "testloader = torch.utils.data.DataLoader(\n",
        "    testset, batch_size=100, shuffle=False, num_workers=2)\n",
        "\n",
        "classes = ('plane', 'car', 'bird', 'cat', 'deer',\n",
        "           'dog', 'frog', 'horse', 'ship', 'truck')"
      ],
      "metadata": {
        "colab": {
          "base_uri": "https://localhost:8080/",
          "height": 101,
          "referenced_widgets": [
            "d7899d2d63a04b8f8003605f64aceb37",
            "31c0390a3f4344f280b8ded46b2f9c27",
            "9468143244374bca9c5eab9640934d4e",
            "7c8c3166502f4ec1bf98a9b69f42af93",
            "b2a0811714ef4d5bb8ff027dc0f03ca5",
            "d3ac7c9f39a543ef8d17b34a4b61c15b",
            "0dd42ddbde1147889f56f963a58f97a4",
            "973edb7c2e1f4dcebf2bb89ab22b8156",
            "1210740fdd804f4db3945821ffbe2f89",
            "9724cdd8334042f4b64e3d69fb50a493",
            "40527f71af9a48f1956085f4d99fbdb3"
          ]
        },
        "id": "L-1BZaQk0_e1",
        "outputId": "bf764573-e49d-4bff-91c7-76302a7b319c"
      },
      "execution_count": 5,
      "outputs": [
        {
          "output_type": "stream",
          "name": "stdout",
          "text": [
            "Downloading https://www.cs.toronto.edu/~kriz/cifar-10-python.tar.gz to ./data/cifar-10-python.tar.gz\n"
          ]
        },
        {
          "output_type": "display_data",
          "data": {
            "text/plain": [
              "  0%|          | 0/170498071 [00:00<?, ?it/s]"
            ],
            "application/vnd.jupyter.widget-view+json": {
              "version_major": 2,
              "version_minor": 0,
              "model_id": "d7899d2d63a04b8f8003605f64aceb37"
            }
          },
          "metadata": {}
        },
        {
          "output_type": "stream",
          "name": "stdout",
          "text": [
            "Extracting ./data/cifar-10-python.tar.gz to ./data\n",
            "Files already downloaded and verified\n"
          ]
        }
      ]
    },
    {
      "cell_type": "code",
      "source": [
        "#Defining instance of ResNet18 model, Loss function, Optimizer and Scheduler\n",
        "model = model.to(device)\n",
        "criterion = nn.CrossEntropyLoss()\n",
        "optimizer = optim.SGD(model.parameters(), lr=0.001,\n",
        "                      momentum=0.9, weight_decay=5e-4)\n",
        "scheduler = torch.optim.lr_scheduler.CosineAnnealingLR(optimizer, T_max=15)"
      ],
      "metadata": {
        "id": "bVwW7NAL24vM"
      },
      "execution_count": null,
      "outputs": []
    },
    {
      "cell_type": "code",
      "source": [
        "TOTAL_BAR_LENGTH = 65.\n",
        "last_time = time.time()\n",
        "begin_time = last_time\n",
        "def progress_bar(current, total, msg=None):\n",
        "    global last_time, begin_time\n",
        "    if current == 0:\n",
        "        begin_time = time.time()  # Reset for new bar.\n",
        "\n",
        "    cur_len = int(TOTAL_BAR_LENGTH*current/total)\n",
        "    rest_len = int(TOTAL_BAR_LENGTH - cur_len) - 1\n",
        "\n",
        "    sys.stdout.write(' [')\n",
        "    for i in range(cur_len):\n",
        "        sys.stdout.write('=')\n",
        "    sys.stdout.write('>')\n",
        "    for i in range(rest_len):\n",
        "        sys.stdout.write('.')\n",
        "    sys.stdout.write(']')\n",
        "\n",
        "    cur_time = time.time()\n",
        "    step_time = cur_time - last_time\n",
        "    last_time = cur_time\n",
        "    tot_time = cur_time - begin_time\n",
        "\n",
        "    L = []\n",
        "    L.append('  Step: %s' % format_time(step_time))\n",
        "    L.append(' | Tot: %s' % format_time(tot_time))\n",
        "    if msg:\n",
        "        L.append(' | ' + msg)\n",
        "\n",
        "    msg = ''.join(L)\n",
        "    sys.stdout.write(msg)\n",
        "\n",
        "    if current < total-1:\n",
        "        sys.stdout.write('\\r')\n",
        "    else:\n",
        "        sys.stdout.write('\\n')\n",
        "    sys.stdout.flush()\n",
        "\n",
        "def format_time(seconds):\n",
        "    days = int(seconds / 3600/24)\n",
        "    seconds = seconds - days*3600*24\n",
        "    hours = int(seconds / 3600)\n",
        "    seconds = seconds - hours*3600\n",
        "    minutes = int(seconds / 60)\n",
        "    seconds = seconds - minutes*60\n",
        "    secondsf = int(seconds)\n",
        "    seconds = seconds - secondsf\n",
        "    millis = int(seconds*1000)\n",
        "\n",
        "    f = ''\n",
        "    i = 1\n",
        "    if days > 0:\n",
        "        f += str(days) + 'D'\n",
        "        i += 1\n",
        "    if hours > 0 and i <= 2:\n",
        "        f += str(hours) + 'h'\n",
        "        i += 1\n",
        "    if minutes > 0 and i <= 2:\n",
        "        f += str(minutes) + 'm'\n",
        "        i += 1\n",
        "    if secondsf > 0 and i <= 2:\n",
        "        f += str(secondsf) + 's'\n",
        "        i += 1\n",
        "    if millis > 0 and i <= 2:\n",
        "        f += str(millis) + 'ms'\n",
        "        i += 1\n",
        "    if f == '':\n",
        "        f = '0ms'\n",
        "    return f"
      ],
      "metadata": {
        "id": "Eg89LwfL94C_"
      },
      "execution_count": 6,
      "outputs": []
    },
    {
      "cell_type": "code",
      "source": [
        "# Training\n",
        "loss_train=[]\n",
        "loss_test=[]\n",
        "train_loss = 0\n",
        "test_loss=0\n",
        "def train(net,epoch):\n",
        "    \n",
        "    print('\\nEpoch: %d' % epoch)\n",
        "    net.train()\n",
        "    train_loss = 0\n",
        "    correct = 0\n",
        "    total = 0\n",
        "    for batch_idx, (inputs, targets) in enumerate(trainloader):\n",
        "        \n",
        "        inputs, targets = inputs.to(device), targets.to(device)\n",
        "        optimizer.zero_grad()\n",
        "        outputs = net(inputs)\n",
        "        loss = criterion(outputs, targets)\n",
        "        loss.backward()\n",
        "        optimizer.step()\n",
        "\n",
        "        train_loss += loss.item()\n",
        "        _, predicted = outputs.max(1)\n",
        "        total += targets.size(0)\n",
        "        correct += predicted.eq(targets).sum().item()\n",
        "\n",
        "        progress_bar(batch_idx, len(trainloader), 'Loss: %.3f | Acc: %.3f%% (%d/%d)'\n",
        "                     % (train_loss/(batch_idx+1), 100.*correct/total, correct, total))\n",
        "    loss_train.append(train_loss)\n",
        "\n",
        "\n",
        "def test(net,epoch):\n",
        "    \n",
        "    global best_acc\n",
        "    net.eval()\n",
        "    test_loss = 0\n",
        "    correct = 0\n",
        "    total = 0\n",
        "    with torch.no_grad():\n",
        "        for batch_idx, (inputs, targets) in enumerate(validationloader):\n",
        "            \n",
        "            inputs, targets = inputs.to(device), targets.to(device)\n",
        "            outputs = net(inputs)\n",
        "            loss = criterion(outputs, targets)\n",
        "\n",
        "            test_loss += loss.item()\n",
        "            _, predicted = outputs.max(1)\n",
        "            total += targets.size(0)\n",
        "            correct += predicted.eq(targets).sum().item()\n",
        "\n",
        "            progress_bar(batch_idx, len(validationloader), 'Loss: %.3f | Acc: %.3f%% (%d/%d)'\n",
        "                         % (test_loss/(batch_idx+1), 100.*correct/total, correct, total))\n",
        "    loss_test.append(test_loss)\n",
        "\n",
        "    # Save checkpoint.\n",
        "    acc = 100.*correct/total\n",
        "    if acc > best_acc:\n",
        "        print('Saving..')\n",
        "        state = {\n",
        "            'net': net.state_dict(),\n",
        "            'acc': acc,\n",
        "            'epoch': epoch,\n",
        "        }\n",
        "        if not os.path.isdir('checkpoint'):\n",
        "            os.mkdir('checkpoint')\n",
        "        torch.save(state, './checkpoint/ckpt.pth')\n",
        "        best_acc = acc\n"
      ],
      "metadata": {
        "id": "vc97ej4C9e6S"
      },
      "execution_count": 37,
      "outputs": []
    },
    {
      "cell_type": "code",
      "source": [
        "for epoch in range(start_epoch, start_epoch+15):\n",
        "    train(model,epoch)\n",
        "    test(model,epoch)\n",
        "    scheduler.step()"
      ],
      "metadata": {
        "colab": {
          "base_uri": "https://localhost:8080/"
        },
        "id": "maIFv6AL--mv",
        "outputId": "80ce97f7-91eb-4a06-9839-f1e6d3e31775"
      },
      "execution_count": null,
      "outputs": [
        {
          "output_type": "stream",
          "name": "stdout",
          "text": [
            "\n",
            "Epoch: 0\n",
            " [================================================================>]  Step: 60ms | Tot: 1m22s | Loss: 1.109 | Acc: 65.180% (26072/40000)\n",
            " [================================================================>]  Step: 69ms | Tot: 19s939ms | Loss: 0.827 | Acc: 73.070% (7307/10000)\n",
            "\n",
            "Epoch: 1\n",
            " [================================================================>]  Step: 64ms | Tot: 1m21s | Loss: 0.779 | Acc: 74.125% (29650/40000)\n",
            " [================================================================>]  Step: 63ms | Tot: 19s961ms | Loss: 0.736 | Acc: 75.290% (7529/10000)\n",
            "\n",
            "Epoch: 2\n",
            " [================================================================>]  Step: 63ms | Tot: 1m22s | Loss: 0.726 | Acc: 75.578% (30231/40000)\n",
            " [================================================================>]  Step: 52ms | Tot: 19s949ms | Loss: 0.700 | Acc: 76.740% (7674/10000)\n",
            "\n",
            "Epoch: 3\n",
            " [================================================================>]  Step: 67ms | Tot: 1m22s | Loss: 0.699 | Acc: 76.180% (30472/40000)\n",
            " [================================================================>]  Step: 55ms | Tot: 19s978ms | Loss: 0.689 | Acc: 76.690% (7669/10000)\n",
            "\n",
            "Epoch: 4\n",
            " [================================================================>]  Step: 61ms | Tot: 1m22s | Loss: 0.681 | Acc: 76.713% (30685/40000)\n",
            " [================================================================>]  Step: 60ms | Tot: 19s881ms | Loss: 0.671 | Acc: 77.080% (7708/10000)\n",
            "\n",
            "Epoch: 5\n",
            " [================================================================>]  Step: 65ms | Tot: 1m21s | Loss: 0.667 | Acc: 77.170% (30868/40000)\n",
            " [================================================================>]  Step: 67ms | Tot: 19s940ms | Loss: 0.666 | Acc: 77.440% (7744/10000)\n",
            "Saving..\n",
            "\n",
            "Epoch: 6\n",
            " [================================================================>]  Step: 57ms | Tot: 1m22s | Loss: 0.660 | Acc: 77.513% (31005/40000)\n",
            " [================================================================>]  Step: 56ms | Tot: 19s899ms | Loss: 0.661 | Acc: 77.670% (7767/10000)\n",
            "Saving..\n",
            "\n",
            "Epoch: 7\n",
            " [================================================================>]  Step: 60ms | Tot: 1m21s | Loss: 0.653 | Acc: 77.468% (30987/40000)\n",
            " [================================================================>]  Step: 66ms | Tot: 19s840ms | Loss: 0.648 | Acc: 78.360% (7836/10000)\n",
            "Saving..\n",
            "\n",
            "Epoch: 8\n",
            " [================================================================>]  Step: 61ms | Tot: 1m21s | Loss: 0.647 | Acc: 77.620% (31048/40000)\n",
            " [================================================================>]  Step: 70ms | Tot: 19s840ms | Loss: 0.646 | Acc: 78.180% (7818/10000)\n",
            "\n",
            "Epoch: 9\n",
            " [================================================================>]  Step: 61ms | Tot: 1m22s | Loss: 0.645 | Acc: 77.745% (31098/40000)\n",
            " [================================================================>]  Step: 62ms | Tot: 20s795ms | Loss: 0.653 | Acc: 77.880% (7788/10000)\n",
            "\n",
            "Epoch: 10\n",
            " [================================================================>]  Step: 70ms | Tot: 1m21s | Loss: 0.639 | Acc: 77.930% (31172/40000)\n",
            " [================================================================>]  Step: 63ms | Tot: 20s864ms | Loss: 0.644 | Acc: 78.320% (7832/10000)\n",
            "\n",
            "Epoch: 11\n",
            " [================================================================>]  Step: 65ms | Tot: 1m20s | Loss: 0.636 | Acc: 77.960% (31184/40000)\n",
            " [================================================================>]  Step: 62ms | Tot: 20s706ms | Loss: 0.645 | Acc: 78.030% (7803/10000)\n",
            "\n",
            "Epoch: 12\n",
            " [================================================================>]  Step: 69ms | Tot: 1m29s | Loss: 0.639 | Acc: 78.218% (31287/40000)\n",
            " [================================================================>]  Step: 81ms | Tot: 20s887ms | Loss: 0.649 | Acc: 78.050% (7805/10000)\n",
            "\n",
            "Epoch: 13\n",
            " [================================================================>]  Step: 71ms | Tot: 1m27s | Loss: 0.633 | Acc: 78.300% (31320/40000)\n",
            " [================================================================>]  Step: 70ms | Tot: 20s211ms | Loss: 0.643 | Acc: 78.300% (7830/10000)\n",
            "\n",
            "Epoch: 14\n",
            " [================================================================>]  Step: 62ms | Tot: 1m27s | Loss: 0.633 | Acc: 78.240% (31296/40000)\n",
            " [================================================================>]  Step: 53ms | Tot: 20s214ms | Loss: 0.644 | Acc: 78.160% (7816/10000)\n"
          ]
        }
      ]
    },
    {
      "cell_type": "code",
      "source": [
        "import matplotlib.pyplot as plt\n",
        "import numpy as np\n",
        "\n",
        "X=np.linspace(1, len(loss_train), len(loss_train))\n",
        "y=loss_train\n",
        "y=np.array(y)\n",
        "y/=len(trainloader)\n",
        "z=loss_test\n",
        "z=np.array(z)\n",
        "z/=len(validationloader)\n",
        "\n",
        "plt.plot(X, y, color='r', label='Train Loss')\n",
        "plt.plot(X, z, color='g', label='Validation Loss')\n",
        "  \n",
        "# Naming the x-axis, y-axis and the whole graph\n",
        "plt.xlabel(\"Epochs\")\n",
        "plt.ylabel(\"Loss\")\n",
        "plt.title(\"Test And Validation Loss\")\n",
        "  \n",
        "# Adding legend, which helps us recognize the curve according to it's color\n",
        "plt.legend()\n",
        "  \n",
        "# To load the display window\n",
        "plt.show()"
      ],
      "metadata": {
        "colab": {
          "base_uri": "https://localhost:8080/",
          "height": 295
        },
        "id": "vgq969OeIpa9",
        "outputId": "b64230b8-7bd8-4993-d9ef-b9e858ac558b"
      },
      "execution_count": null,
      "outputs": [
        {
          "output_type": "display_data",
          "data": {
            "text/plain": [
              "<Figure size 432x288 with 1 Axes>"
            ],
            "image/png": "[encoded data removed]"
          },
          "metadata": {
            "needs_background": "light"
          }
        }
      ]
    },
    {
      "cell_type": "code",
      "source": [
        "from google.colab import drive\n",
        "drive.mount('/content/gdrive')"
      ],
      "metadata": {
        "colab": {
          "base_uri": "https://localhost:8080/"
        },
        "id": "-mJRlbqnLvnt",
        "outputId": "fd666596-9b6a-4408-bf98-0fb05459ccd2"
      },
      "execution_count": 14,
      "outputs": [
        {
          "output_type": "stream",
          "name": "stdout",
          "text": [
            "Mounted at /content/gdrive\n"
          ]
        }
      ]
    },
    {
      "cell_type": "code",
      "source": [
        "model_save_name = 'checkpoint0.pt'\n",
        "path = F\"/content/gdrive/My Drive/{model_save_name}\" \n",
        "torch.save(model, path)"
      ],
      "metadata": {
        "id": "X6o8sUlcL4lD"
      },
      "execution_count": null,
      "outputs": []
    },
    {
      "cell_type": "code",
      "source": [
        "# prepare to count predictions for each class\n",
        "correct_pred = {classname: 0 for classname in classes}\n",
        "total_pred = {classname: 0 for classname in classes}\n",
        "\n",
        "with torch.no_grad():\n",
        "    for data in testloader:\n",
        "        images, labels = data\n",
        "        images,labels=images.to(device),labels.to(device)\n",
        "\n",
        "        outputs = model(images)\n",
        "        _, predictions = torch.max(outputs, 1)\n",
        "        # collect the correct predictions for each class\n",
        "        for label, prediction in zip(labels, predictions):\n",
        "            if label == prediction:\n",
        "                correct_pred[classes[label]] += 1\n",
        "            total_pred[classes[label]] += 1\n",
        "\n",
        "\n",
        "# print accuracy for each class\n",
        "for classname, correct_count in correct_pred.items():\n",
        "    accuracy = 100 * float(correct_count) / total_pred[classname]\n",
        "    print(f'Accuracy for class: {classname:5s} is {accuracy:.1f} %')"
      ],
      "metadata": {
        "colab": {
          "base_uri": "https://localhost:8080/"
        },
        "id": "PhG12n61ugtS",
        "outputId": "f22a33ef-b4b0-4089-d8b5-3e66bcfa7f37"
      },
      "execution_count": null,
      "outputs": [
        {
          "output_type": "stream",
          "name": "stdout",
          "text": [
            "Accuracy for class: plane is 78.7 %\n",
            "Accuracy for class: car   is 88.6 %\n",
            "Accuracy for class: bird  is 69.2 %\n",
            "Accuracy for class: cat   is 65.2 %\n",
            "Accuracy for class: deer  is 74.5 %\n",
            "Accuracy for class: dog   is 76.5 %\n",
            "Accuracy for class: frog  is 83.3 %\n",
            "Accuracy for class: horse is 76.9 %\n",
            "Accuracy for class: ship  is 82.9 %\n",
            "Accuracy for class: truck is 83.6 %\n"
          ]
        }
      ]
    },
    {
      "cell_type": "code",
      "source": [
        "correct = 0\n",
        "total = 0\n",
        "\n",
        "with torch.no_grad():\n",
        "    for data in testloader:\n",
        "        images, labels = data\n",
        "        images,labels=images.to(device),labels.to(device)\n",
        "\n",
        "        outputs = model(images)\n",
        "\n",
        "        _, predicted = torch.max(outputs.data, 1)\n",
        "        total += labels.size(0)\n",
        "        correct += (predicted == labels).sum().item()\n",
        "\n",
        "print(f'Accuracy of the network on the 10000 test images: {100 * correct // total} %')"
      ],
      "metadata": {
        "colab": {
          "base_uri": "https://localhost:8080/"
        },
        "id": "8Vz0eE8TQU7x",
        "outputId": "50de0f86-6f8d-4ad6-9605-9b827c92283c"
      },
      "execution_count": null,
      "outputs": [
        {
          "output_type": "stream",
          "name": "stdout",
          "text": [
            "Accuracy of the network on the 10000 test images: 77 %\n"
          ]
        }
      ]
    },
    {
      "cell_type": "code",
      "source": [
        "model_save_name = 'checkpoint0.pt'\n",
        "path = F\"/content/gdrive/My Drive/{model_save_name}\"\n",
        "model1 = torch.load(path)"
      ],
      "metadata": {
        "id": "qTiZ9WQjQZMv"
      },
      "execution_count": 15,
      "outputs": []
    },
    {
      "cell_type": "code",
      "source": [
        "model1 = torch.load()"
      ],
      "metadata": {
        "id": "pcdRQA6xhZ26"
      },
      "execution_count": null,
      "outputs": []
    },
    {
      "cell_type": "code",
      "source": [
        "print(model1.parameters)"
      ],
      "metadata": {
        "colab": {
          "base_uri": "https://localhost:8080/"
        },
        "id": "sM1f0_SAaP4D",
        "outputId": "95e04b15-c5c8-4542-b627-6ff1bc04b1ae"
      },
      "execution_count": null,
      "outputs": [
        {
          "output_type": "stream",
          "name": "stdout",
          "text": [
            "<bound method Module.parameters of ResNet(\n",
            "  (conv1): Conv2d(3, 64, kernel_size=(7, 7), stride=(2, 2), padding=(3, 3), bias=False)\n",
            "  (bn1): BatchNorm2d(64, eps=1e-05, momentum=0.1, affine=True, track_running_stats=True)\n",
            "  (relu): ReLU(inplace=True)\n",
            "  (maxpool): MaxPool2d(kernel_size=3, stride=2, padding=1, dilation=1, ceil_mode=False)\n",
            "  (layer1): Sequential(\n",
            "    (0): BasicBlock(\n",
            "      (conv1): Conv2d(64, 64, kernel_size=(3, 3), stride=(1, 1), padding=(1, 1), bias=False)\n",
            "      (bn1): BatchNorm2d(64, eps=1e-05, momentum=0.1, affine=True, track_running_stats=True)\n",
            "      (relu): ReLU(inplace=True)\n",
            "      (conv2): Conv2d(64, 64, kernel_size=(3, 3), stride=(1, 1), padding=(1, 1), bias=False)\n",
            "      (bn2): BatchNorm2d(64, eps=1e-05, momentum=0.1, affine=True, track_running_stats=True)\n",
            "    )\n",
            "    (1): BasicBlock(\n",
            "      (conv1): Conv2d(64, 64, kernel_size=(3, 3), stride=(1, 1), padding=(1, 1), bias=False)\n",
            "      (bn1): BatchNorm2d(64, eps=1e-05, momentum=0.1, affine=True, track_running_stats=True)\n",
            "      (relu): ReLU(inplace=True)\n",
            "      (conv2): Conv2d(64, 64, kernel_size=(3, 3), stride=(1, 1), padding=(1, 1), bias=False)\n",
            "      (bn2): BatchNorm2d(64, eps=1e-05, momentum=0.1, affine=True, track_running_stats=True)\n",
            "    )\n",
            "  )\n",
            "  (layer2): Sequential(\n",
            "    (0): BasicBlock(\n",
            "      (conv1): Conv2d(64, 128, kernel_size=(3, 3), stride=(2, 2), padding=(1, 1), bias=False)\n",
            "      (bn1): BatchNorm2d(128, eps=1e-05, momentum=0.1, affine=True, track_running_stats=True)\n",
            "      (relu): ReLU(inplace=True)\n",
            "      (conv2): Conv2d(128, 128, kernel_size=(3, 3), stride=(1, 1), padding=(1, 1), bias=False)\n",
            "      (bn2): BatchNorm2d(128, eps=1e-05, momentum=0.1, affine=True, track_running_stats=True)\n",
            "      (downsample): Sequential(\n",
            "        (0): Conv2d(64, 128, kernel_size=(1, 1), stride=(2, 2), bias=False)\n",
            "        (1): BatchNorm2d(128, eps=1e-05, momentum=0.1, affine=True, track_running_stats=True)\n",
            "      )\n",
            "    )\n",
            "    (1): BasicBlock(\n",
            "      (conv1): Conv2d(128, 128, kernel_size=(3, 3), stride=(1, 1), padding=(1, 1), bias=False)\n",
            "      (bn1): BatchNorm2d(128, eps=1e-05, momentum=0.1, affine=True, track_running_stats=True)\n",
            "      (relu): ReLU(inplace=True)\n",
            "      (conv2): Conv2d(128, 128, kernel_size=(3, 3), stride=(1, 1), padding=(1, 1), bias=False)\n",
            "      (bn2): BatchNorm2d(128, eps=1e-05, momentum=0.1, affine=True, track_running_stats=True)\n",
            "    )\n",
            "  )\n",
            "  (layer3): Sequential(\n",
            "    (0): BasicBlock(\n",
            "      (conv1): Conv2d(128, 256, kernel_size=(3, 3), stride=(2, 2), padding=(1, 1), bias=False)\n",
            "      (bn1): BatchNorm2d(256, eps=1e-05, momentum=0.1, affine=True, track_running_stats=True)\n",
            "      (relu): ReLU(inplace=True)\n",
            "      (conv2): Conv2d(256, 256, kernel_size=(3, 3), stride=(1, 1), padding=(1, 1), bias=False)\n",
            "      (bn2): BatchNorm2d(256, eps=1e-05, momentum=0.1, affine=True, track_running_stats=True)\n",
            "      (downsample): Sequential(\n",
            "        (0): Conv2d(128, 256, kernel_size=(1, 1), stride=(2, 2), bias=False)\n",
            "        (1): BatchNorm2d(256, eps=1e-05, momentum=0.1, affine=True, track_running_stats=True)\n",
            "      )\n",
            "    )\n",
            "    (1): BasicBlock(\n",
            "      (conv1): Conv2d(256, 256, kernel_size=(3, 3), stride=(1, 1), padding=(1, 1), bias=False)\n",
            "      (bn1): BatchNorm2d(256, eps=1e-05, momentum=0.1, affine=True, track_running_stats=True)\n",
            "      (relu): ReLU(inplace=True)\n",
            "      (conv2): Conv2d(256, 256, kernel_size=(3, 3), stride=(1, 1), padding=(1, 1), bias=False)\n",
            "      (bn2): BatchNorm2d(256, eps=1e-05, momentum=0.1, affine=True, track_running_stats=True)\n",
            "    )\n",
            "  )\n",
            "  (layer4): Sequential(\n",
            "    (0): BasicBlock(\n",
            "      (conv1): Conv2d(256, 512, kernel_size=(3, 3), stride=(2, 2), padding=(1, 1), bias=False)\n",
            "      (bn1): BatchNorm2d(512, eps=1e-05, momentum=0.1, affine=True, track_running_stats=True)\n",
            "      (relu): ReLU(inplace=True)\n",
            "      (conv2): Conv2d(512, 512, kernel_size=(3, 3), stride=(1, 1), padding=(1, 1), bias=False)\n",
            "      (bn2): BatchNorm2d(512, eps=1e-05, momentum=0.1, affine=True, track_running_stats=True)\n",
            "      (downsample): Sequential(\n",
            "        (0): Conv2d(256, 512, kernel_size=(1, 1), stride=(2, 2), bias=False)\n",
            "        (1): BatchNorm2d(512, eps=1e-05, momentum=0.1, affine=True, track_running_stats=True)\n",
            "      )\n",
            "    )\n",
            "    (1): BasicBlock(\n",
            "      (conv1): Conv2d(512, 512, kernel_size=(3, 3), stride=(1, 1), padding=(1, 1), bias=False)\n",
            "      (bn1): BatchNorm2d(512, eps=1e-05, momentum=0.1, affine=True, track_running_stats=True)\n",
            "      (relu): ReLU(inplace=True)\n",
            "      (conv2): Conv2d(512, 512, kernel_size=(3, 3), stride=(1, 1), padding=(1, 1), bias=False)\n",
            "      (bn2): BatchNorm2d(512, eps=1e-05, momentum=0.1, affine=True, track_running_stats=True)\n",
            "    )\n",
            "  )\n",
            "  (avgpool): AdaptiveAvgPool2d(output_size=(1, 1))\n",
            "  (fc): Linear(in_features=512, out_features=10, bias=True)\n",
            ")>\n"
          ]
        }
      ]
    },
    {
      "cell_type": "code",
      "source": [
        "print(model1.layer4.parameters)"
      ],
      "metadata": {
        "colab": {
          "base_uri": "https://localhost:8080/"
        },
        "id": "BVRGh1uwaqtK",
        "outputId": "e700c8d7-9ec5-4e9c-998d-fa21200b5aac"
      },
      "execution_count": null,
      "outputs": [
        {
          "output_type": "stream",
          "name": "stdout",
          "text": [
            "<bound method Module.parameters of Sequential(\n",
            "  (0): BasicBlock(\n",
            "    (conv1): Conv2d(256, 512, kernel_size=(3, 3), stride=(2, 2), padding=(1, 1), bias=False)\n",
            "    (bn1): BatchNorm2d(512, eps=1e-05, momentum=0.1, affine=True, track_running_stats=True)\n",
            "    (relu): ReLU(inplace=True)\n",
            "    (conv2): Conv2d(512, 512, kernel_size=(3, 3), stride=(1, 1), padding=(1, 1), bias=False)\n",
            "    (bn2): BatchNorm2d(512, eps=1e-05, momentum=0.1, affine=True, track_running_stats=True)\n",
            "    (downsample): Sequential(\n",
            "      (0): Conv2d(256, 512, kernel_size=(1, 1), stride=(2, 2), bias=False)\n",
            "      (1): BatchNorm2d(512, eps=1e-05, momentum=0.1, affine=True, track_running_stats=True)\n",
            "    )\n",
            "  )\n",
            "  (1): BasicBlock(\n",
            "    (conv1): Conv2d(512, 512, kernel_size=(3, 3), stride=(1, 1), padding=(1, 1), bias=False)\n",
            "    (bn1): BatchNorm2d(512, eps=1e-05, momentum=0.1, affine=True, track_running_stats=True)\n",
            "    (relu): ReLU(inplace=True)\n",
            "    (conv2): Conv2d(512, 512, kernel_size=(3, 3), stride=(1, 1), padding=(1, 1), bias=False)\n",
            "    (bn2): BatchNorm2d(512, eps=1e-05, momentum=0.1, affine=True, track_running_stats=True)\n",
            "  )\n",
            ")>\n"
          ]
        }
      ]
    },
    {
      "cell_type": "code",
      "source": [
        "#Unfreezing layer 4\n",
        "for param in model1.parameters(): \n",
        "  param.requires_grad = False\n",
        "for param in model1.fc.parameters(): \n",
        "  param.requires_grad = True\n",
        "for param in model1.layer4.parameters():\n",
        "  param.requires_grad = True"
      ],
      "metadata": {
        "id": "kaRT3fTgcs5C"
      },
      "execution_count": 16,
      "outputs": []
    },
    {
      "cell_type": "code",
      "source": [
        "#Defining Loss function, Optimizer and Scheduler\n",
        "model1 = model1.to(device)\n",
        "criterion = nn.CrossEntropyLoss()\n",
        "optimizer = optim.SGD(model1.parameters(), lr=0.001,\n",
        "                      momentum=0.9, weight_decay=5e-4)\n",
        "scheduler = torch.optim.lr_scheduler.CosineAnnealingLR(optimizer, T_max=15)"
      ],
      "metadata": {
        "id": "uuwSqL-_dewF"
      },
      "execution_count": 17,
      "outputs": []
    },
    {
      "cell_type": "code",
      "source": [
        "for epoch in range(start_epoch, start_epoch+15):\n",
        "    train(model1,epoch)\n",
        "    test(model1,epoch)\n",
        "    scheduler.step()"
      ],
      "metadata": {
        "colab": {
          "base_uri": "https://localhost:8080/"
        },
        "id": "b6brVOu4Ofh2",
        "outputId": "d24c3409-030e-4831-f905-f190c865dd40"
      },
      "execution_count": 18,
      "outputs": [
        {
          "output_type": "stream",
          "name": "stdout",
          "text": [
            "\n",
            "Epoch: 0\n",
            " [================================================================>]  Step: 71ms | Tot: 1m27s | Loss: 0.491 | Acc: 82.888% (33155/40000)\n",
            " [================================================================>]  Step: 63ms | Tot: 20s618ms | Loss: 0.398 | Acc: 86.210% (8621/10000)\n",
            "\n",
            "Epoch: 1\n",
            " [================================================================>]  Step: 75ms | Tot: 1m27s | Loss: 0.290 | Acc: 90.235% (36094/40000)\n",
            " [================================================================>]  Step: 55ms | Tot: 20s693ms | Loss: 0.352 | Acc: 87.660% (8766/10000)\n",
            "\n",
            "Epoch: 2\n",
            " [================================================================>]  Step: 76ms | Tot: 1m27s | Loss: 0.196 | Acc: 93.632% (37453/40000)\n",
            " [================================================================>]  Step: 67ms | Tot: 20s725ms | Loss: 0.333 | Acc: 88.600% (8860/10000)\n",
            "\n",
            "Epoch: 3\n",
            " [================================================================>]  Step: 79ms | Tot: 1m27s | Loss: 0.135 | Acc: 95.978% (38391/40000)\n",
            " [================================================================>]  Step: 65ms | Tot: 20s718ms | Loss: 0.327 | Acc: 88.990% (8899/10000)\n",
            "\n",
            "Epoch: 4\n",
            " [================================================================>]  Step: 77ms | Tot: 1m27s | Loss: 0.093 | Acc: 97.677% (39071/40000)\n",
            " [================================================================>]  Step: 59ms | Tot: 20s794ms | Loss: 0.325 | Acc: 89.280% (8928/10000)\n",
            "\n",
            "Epoch: 5\n",
            " [================================================================>]  Step: 74ms | Tot: 1m27s | Loss: 0.067 | Acc: 98.612% (39445/40000)\n",
            " [================================================================>]  Step: 55ms | Tot: 20s630ms | Loss: 0.328 | Acc: 89.510% (8951/10000)\n",
            "\n",
            "Epoch: 6\n",
            " [================================================================>]  Step: 69ms | Tot: 1m27s | Loss: 0.052 | Acc: 99.108% (39643/40000)\n",
            " [================================================================>]  Step: 58ms | Tot: 20s808ms | Loss: 0.333 | Acc: 89.640% (8964/10000)\n",
            "\n",
            "Epoch: 7\n",
            " [================================================================>]  Step: 73ms | Tot: 1m27s | Loss: 0.040 | Acc: 99.502% (39801/40000)\n",
            " [================================================================>]  Step: 50ms | Tot: 20s778ms | Loss: 0.337 | Acc: 89.610% (8961/10000)\n",
            "\n",
            "Epoch: 8\n",
            " [================================================================>]  Step: 78ms | Tot: 1m27s | Loss: 0.033 | Acc: 99.650% (39860/40000)\n",
            " [================================================================>]  Step: 54ms | Tot: 20s541ms | Loss: 0.339 | Acc: 89.550% (8955/10000)\n",
            "\n",
            "Epoch: 9\n",
            " [================================================================>]  Step: 77ms | Tot: 1m27s | Loss: 0.030 | Acc: 99.725% (39890/40000)\n",
            " [================================================================>]  Step: 56ms | Tot: 20s499ms | Loss: 0.338 | Acc: 89.610% (8961/10000)\n",
            "\n",
            "Epoch: 10\n",
            " [================================================================>]  Step: 73ms | Tot: 1m26s | Loss: 0.027 | Acc: 99.757% (39903/40000)\n",
            " [================================================================>]  Step: 66ms | Tot: 20s449ms | Loss: 0.343 | Acc: 89.800% (8980/10000)\n",
            "Saving..\n",
            "\n",
            "Epoch: 11\n",
            " [================================================================>]  Step: 76ms | Tot: 1m26s | Loss: 0.025 | Acc: 99.782% (39913/40000)\n",
            " [================================================================>]  Step: 53ms | Tot: 20s407ms | Loss: 0.342 | Acc: 89.740% (8974/10000)\n",
            "\n",
            "Epoch: 12\n",
            " [================================================================>]  Step: 79ms | Tot: 1m28s | Loss: 0.023 | Acc: 99.820% (39928/40000)\n",
            " [================================================================>]  Step: 64ms | Tot: 21s48ms | Loss: 0.339 | Acc: 89.810% (8981/10000)\n",
            "Saving..\n",
            "\n",
            "Epoch: 13\n",
            " [================================================================>]  Step: 74ms | Tot: 1m26s | Loss: 0.024 | Acc: 99.802% (39921/40000)\n",
            " [================================================================>]  Step: 52ms | Tot: 20s535ms | Loss: 0.339 | Acc: 89.840% (8984/10000)\n",
            "Saving..\n",
            "\n",
            "Epoch: 14\n",
            " [================================================================>]  Step: 75ms | Tot: 1m26s | Loss: 0.023 | Acc: 99.812% (39925/40000)\n",
            " [================================================================>]  Step: 57ms | Tot: 20s974ms | Loss: 0.342 | Acc: 89.610% (8961/10000)\n"
          ]
        }
      ]
    },
    {
      "cell_type": "code",
      "source": [
        "seq1loss_train=np.array(loss_train[15:])/len(trainloader)\n",
        "seq1loss_test=np.array(loss_test[15:])/len(validationloader)"
      ],
      "metadata": {
        "id": "AScgWleNoci8"
      },
      "execution_count": 30,
      "outputs": []
    },
    {
      "cell_type": "code",
      "source": [
        "print(seq1loss_test)"
      ],
      "metadata": {
        "colab": {
          "base_uri": "https://localhost:8080/"
        },
        "id": "uyKTEKHPtHnE",
        "outputId": "03f65019-9800-491a-855a-db4ab18cf38c"
      },
      "execution_count": 32,
      "outputs": [
        {
          "output_type": "stream",
          "name": "stdout",
          "text": [
            "[0.39757563 0.35162565 0.33257118 0.32742058 0.3247916  0.32827869\n",
            " 0.33341151 0.33653984 0.33884539 0.33823566 0.34289371 0.34167735\n",
            " 0.33897337 0.33909677 0.34196826]\n"
          ]
        }
      ]
    },
    {
      "cell_type": "code",
      "source": [
        "import matplotlib.pyplot as plt\n",
        "import numpy as np\n",
        "\n",
        "X=np.linspace(1, len(loss_train), len(loss_train))\n",
        "y=loss_train\n",
        "y=np.array(y)\n",
        "y/=len(trainloader)\n",
        "z=loss_test\n",
        "z=np.array(z)\n",
        "z/=len(validationloader)\n",
        "\n",
        "plt.plot(X, y, color='r', label='Train Loss')\n",
        "plt.plot(X, z, color='g', label='Validation Loss')\n",
        "  \n",
        "# Naming the x-axis, y-axis and the whole graph\n",
        "plt.xlabel(\"Epochs\")\n",
        "plt.ylabel(\"Loss\")\n",
        "plt.title(\"Total Test And Validation Loss\")\n",
        "  \n",
        "# Adding legend, which helps us recognize the curve according to it's color\n",
        "plt.legend()\n",
        "  \n",
        "# To load the display window\n",
        "plt.show()"
      ],
      "metadata": {
        "colab": {
          "base_uri": "https://localhost:8080/",
          "height": 295
        },
        "id": "bj6ecTjcbxO2",
        "outputId": "7e6213ef-4382-4942-cd90-be7dce1921b5"
      },
      "execution_count": null,
      "outputs": [
        {
          "output_type": "display_data",
          "data": {
            "text/plain": [
              "<Figure size 432x288 with 1 Axes>"
            ],
            "image/png": "[encoded data removed]"
          },
          "metadata": {
            "needs_background": "light"
          }
        }
      ]
    },
    {
      "cell_type": "code",
      "source": [
        "import matplotlib.pyplot as plt\n",
        "import numpy as np\n",
        "\n",
        "X=np.linspace(1, len(loss_train[15:]), len(loss_train[15:]))\n",
        "y=loss_train[15:]\n",
        "y=np.array(y)\n",
        "y/=len(trainloader)\n",
        "z=loss_test[15:]\n",
        "z=np.array(z)\n",
        "z/=len(validationloader)\n",
        "\n",
        "plt.plot(X, y, color='r', label='Train Loss')\n",
        "plt.plot(X, z, color='g', label='Validation Loss')\n",
        "  \n",
        "# Naming the x-axis, y-axis and the whole graph\n",
        "plt.xlabel(\"Epochs\")\n",
        "plt.ylabel(\"Loss\")\n",
        "plt.title(\"Test And Validation Loss\")\n",
        "  \n",
        "# Adding legend, which helps us recognize the curve according to it's color\n",
        "plt.legend()\n",
        "  \n",
        "# To load the display window\n",
        "plt.show()"
      ],
      "metadata": {
        "colab": {
          "base_uri": "https://localhost:8080/",
          "height": 295
        },
        "id": "7hULfaOgcHsT",
        "outputId": "78fcd0fa-84cc-4d03-a200-eb5645493b0c"
      },
      "execution_count": null,
      "outputs": [
        {
          "output_type": "display_data",
          "data": {
            "text/plain": [
              "<Figure size 432x288 with 1 Axes>"
            ],
            "image/png": "[encoded data removed]"
          },
          "metadata": {
            "needs_background": "light"
          }
        }
      ]
    },
    {
      "cell_type": "code",
      "source": [
        "model_save_name = 'checkpoint1.pt'\n",
        "path = F\"/content/gdrive/My Drive/{model_save_name}\" \n",
        "torch.save(model1, path)"
      ],
      "metadata": {
        "id": "7iuEC9OizyVE"
      },
      "execution_count": null,
      "outputs": []
    },
    {
      "cell_type": "code",
      "source": [
        "#Testing Test Set\n",
        "correct = 0\n",
        "total = 0\n",
        "\n",
        "with torch.no_grad():\n",
        "    for data in testloader:\n",
        "        images, labels = data\n",
        "        images,labels=images.to(device),labels.to(device)\n",
        "\n",
        "        outputs = model1(images)\n",
        "\n",
        "        _, predicted = torch.max(outputs.data, 1)\n",
        "        total += labels.size(0)\n",
        "        correct += (predicted == labels).sum().item()\n",
        "\n",
        "print(f'Accuracy of the network on the 10000 test images: {100 * correct / total} %')"
      ],
      "metadata": {
        "colab": {
          "base_uri": "https://localhost:8080/"
        },
        "id": "mILswn10vx-_",
        "outputId": "3b17399e-0063-4156-9164-4a70d1164f2f"
      },
      "execution_count": null,
      "outputs": [
        {
          "output_type": "stream",
          "name": "stdout",
          "text": [
            "Accuracy of the network on the 10000 test images: 89.11 %\n"
          ]
        }
      ]
    },
    {
      "cell_type": "code",
      "source": [
        "# prepare to count predictions for each class\n",
        "correct_pred = {classname: 0 for classname in classes}\n",
        "total_pred = {classname: 0 for classname in classes}\n",
        "\n",
        "with torch.no_grad():\n",
        "    for data in testloader:\n",
        "        images, labels = data\n",
        "        images,labels=images.to(device),labels.to(device)\n",
        "\n",
        "        outputs = model1(images)\n",
        "        _, predictions = torch.max(outputs, 1)\n",
        "        # collect the correct predictions for each class\n",
        "        for label, prediction in zip(labels, predictions):\n",
        "            if label == prediction:\n",
        "                correct_pred[classes[label]] += 1\n",
        "            total_pred[classes[label]] += 1\n",
        "\n",
        "\n",
        "# print accuracy for each class\n",
        "for classname, correct_count in correct_pred.items():\n",
        "    accuracy = 100 * float(correct_count) / total_pred[classname]\n",
        "    print(f'Accuracy for class: {classname:5s} is {accuracy:.1f} %')"
      ],
      "metadata": {
        "colab": {
          "base_uri": "https://localhost:8080/"
        },
        "id": "MxbJ4tvbfX0w",
        "outputId": "2e8f7f08-a4c2-4693-cdfd-0c13d3e7347e"
      },
      "execution_count": null,
      "outputs": [
        {
          "output_type": "stream",
          "name": "stdout",
          "text": [
            "Accuracy for class: plane is 90.8 %\n",
            "Accuracy for class: car   is 94.2 %\n",
            "Accuracy for class: bird  is 87.5 %\n",
            "Accuracy for class: cat   is 78.8 %\n",
            "Accuracy for class: deer  is 87.1 %\n",
            "Accuracy for class: dog   is 84.6 %\n",
            "Accuracy for class: frog  is 92.0 %\n",
            "Accuracy for class: horse is 90.7 %\n",
            "Accuracy for class: ship  is 93.8 %\n",
            "Accuracy for class: truck is 91.6 %\n"
          ]
        }
      ]
    },
    {
      "cell_type": "code",
      "source": [
        "model_save_name = 'checkpoint1.pt'\n",
        "path = F\"/content/gdrive/My Drive/{model_save_name}\"\n",
        "model2 = torch.load(path)"
      ],
      "metadata": {
        "id": "eOsaAyURcoSd"
      },
      "execution_count": null,
      "outputs": []
    },
    {
      "cell_type": "code",
      "source": [
        "#Unfreezing layer 3\n",
        "for param in model2.parameters(): \n",
        "  param.requires_grad = False\n",
        "for param in model2.fc.parameters(): \n",
        "  param.requires_grad = True\n",
        "for param in model2.layer4.parameters():\n",
        "  param.requires_grad = True\n",
        "for param in model2.layer3.parameters():\n",
        "  param.requires_grad = True"
      ],
      "metadata": {
        "id": "W76k4-n8xXxd"
      },
      "execution_count": null,
      "outputs": []
    },
    {
      "cell_type": "code",
      "source": [
        "print(model2.parameters)"
      ],
      "metadata": {
        "colab": {
          "base_uri": "https://localhost:8080/"
        },
        "id": "WhQADaDlfnC1",
        "outputId": "f14106f6-9670-45c4-dee0-47d3450b3608"
      },
      "execution_count": null,
      "outputs": [
        {
          "output_type": "stream",
          "name": "stdout",
          "text": [
            "<bound method Module.parameters of ResNet(\n",
            "  (conv1): Conv2d(3, 64, kernel_size=(7, 7), stride=(2, 2), padding=(3, 3), bias=False)\n",
            "  (bn1): BatchNorm2d(64, eps=1e-05, momentum=0.1, affine=True, track_running_stats=True)\n",
            "  (relu): ReLU(inplace=True)\n",
            "  (maxpool): MaxPool2d(kernel_size=3, stride=2, padding=1, dilation=1, ceil_mode=False)\n",
            "  (layer1): Sequential(\n",
            "    (0): BasicBlock(\n",
            "      (conv1): Conv2d(64, 64, kernel_size=(3, 3), stride=(1, 1), padding=(1, 1), bias=False)\n",
            "      (bn1): BatchNorm2d(64, eps=1e-05, momentum=0.1, affine=True, track_running_stats=True)\n",
            "      (relu): ReLU(inplace=True)\n",
            "      (conv2): Conv2d(64, 64, kernel_size=(3, 3), stride=(1, 1), padding=(1, 1), bias=False)\n",
            "      (bn2): BatchNorm2d(64, eps=1e-05, momentum=0.1, affine=True, track_running_stats=True)\n",
            "    )\n",
            "    (1): BasicBlock(\n",
            "      (conv1): Conv2d(64, 64, kernel_size=(3, 3), stride=(1, 1), padding=(1, 1), bias=False)\n",
            "      (bn1): BatchNorm2d(64, eps=1e-05, momentum=0.1, affine=True, track_running_stats=True)\n",
            "      (relu): ReLU(inplace=True)\n",
            "      (conv2): Conv2d(64, 64, kernel_size=(3, 3), stride=(1, 1), padding=(1, 1), bias=False)\n",
            "      (bn2): BatchNorm2d(64, eps=1e-05, momentum=0.1, affine=True, track_running_stats=True)\n",
            "    )\n",
            "  )\n",
            "  (layer2): Sequential(\n",
            "    (0): BasicBlock(\n",
            "      (conv1): Conv2d(64, 128, kernel_size=(3, 3), stride=(2, 2), padding=(1, 1), bias=False)\n",
            "      (bn1): BatchNorm2d(128, eps=1e-05, momentum=0.1, affine=True, track_running_stats=True)\n",
            "      (relu): ReLU(inplace=True)\n",
            "      (conv2): Conv2d(128, 128, kernel_size=(3, 3), stride=(1, 1), padding=(1, 1), bias=False)\n",
            "      (bn2): BatchNorm2d(128, eps=1e-05, momentum=0.1, affine=True, track_running_stats=True)\n",
            "      (downsample): Sequential(\n",
            "        (0): Conv2d(64, 128, kernel_size=(1, 1), stride=(2, 2), bias=False)\n",
            "        (1): BatchNorm2d(128, eps=1e-05, momentum=0.1, affine=True, track_running_stats=True)\n",
            "      )\n",
            "    )\n",
            "    (1): BasicBlock(\n",
            "      (conv1): Conv2d(128, 128, kernel_size=(3, 3), stride=(1, 1), padding=(1, 1), bias=False)\n",
            "      (bn1): BatchNorm2d(128, eps=1e-05, momentum=0.1, affine=True, track_running_stats=True)\n",
            "      (relu): ReLU(inplace=True)\n",
            "      (conv2): Conv2d(128, 128, kernel_size=(3, 3), stride=(1, 1), padding=(1, 1), bias=False)\n",
            "      (bn2): BatchNorm2d(128, eps=1e-05, momentum=0.1, affine=True, track_running_stats=True)\n",
            "    )\n",
            "  )\n",
            "  (layer3): Sequential(\n",
            "    (0): BasicBlock(\n",
            "      (conv1): Conv2d(128, 256, kernel_size=(3, 3), stride=(2, 2), padding=(1, 1), bias=False)\n",
            "      (bn1): BatchNorm2d(256, eps=1e-05, momentum=0.1, affine=True, track_running_stats=True)\n",
            "      (relu): ReLU(inplace=True)\n",
            "      (conv2): Conv2d(256, 256, kernel_size=(3, 3), stride=(1, 1), padding=(1, 1), bias=False)\n",
            "      (bn2): BatchNorm2d(256, eps=1e-05, momentum=0.1, affine=True, track_running_stats=True)\n",
            "      (downsample): Sequential(\n",
            "        (0): Conv2d(128, 256, kernel_size=(1, 1), stride=(2, 2), bias=False)\n",
            "        (1): BatchNorm2d(256, eps=1e-05, momentum=0.1, affine=True, track_running_stats=True)\n",
            "      )\n",
            "    )\n",
            "    (1): BasicBlock(\n",
            "      (conv1): Conv2d(256, 256, kernel_size=(3, 3), stride=(1, 1), padding=(1, 1), bias=False)\n",
            "      (bn1): BatchNorm2d(256, eps=1e-05, momentum=0.1, affine=True, track_running_stats=True)\n",
            "      (relu): ReLU(inplace=True)\n",
            "      (conv2): Conv2d(256, 256, kernel_size=(3, 3), stride=(1, 1), padding=(1, 1), bias=False)\n",
            "      (bn2): BatchNorm2d(256, eps=1e-05, momentum=0.1, affine=True, track_running_stats=True)\n",
            "    )\n",
            "  )\n",
            "  (layer4): Sequential(\n",
            "    (0): BasicBlock(\n",
            "      (conv1): Conv2d(256, 512, kernel_size=(3, 3), stride=(2, 2), padding=(1, 1), bias=False)\n",
            "      (bn1): BatchNorm2d(512, eps=1e-05, momentum=0.1, affine=True, track_running_stats=True)\n",
            "      (relu): ReLU(inplace=True)\n",
            "      (conv2): Conv2d(512, 512, kernel_size=(3, 3), stride=(1, 1), padding=(1, 1), bias=False)\n",
            "      (bn2): BatchNorm2d(512, eps=1e-05, momentum=0.1, affine=True, track_running_stats=True)\n",
            "      (downsample): Sequential(\n",
            "        (0): Conv2d(256, 512, kernel_size=(1, 1), stride=(2, 2), bias=False)\n",
            "        (1): BatchNorm2d(512, eps=1e-05, momentum=0.1, affine=True, track_running_stats=True)\n",
            "      )\n",
            "    )\n",
            "    (1): BasicBlock(\n",
            "      (conv1): Conv2d(512, 512, kernel_size=(3, 3), stride=(1, 1), padding=(1, 1), bias=False)\n",
            "      (bn1): BatchNorm2d(512, eps=1e-05, momentum=0.1, affine=True, track_running_stats=True)\n",
            "      (relu): ReLU(inplace=True)\n",
            "      (conv2): Conv2d(512, 512, kernel_size=(3, 3), stride=(1, 1), padding=(1, 1), bias=False)\n",
            "      (bn2): BatchNorm2d(512, eps=1e-05, momentum=0.1, affine=True, track_running_stats=True)\n",
            "    )\n",
            "  )\n",
            "  (avgpool): AdaptiveAvgPool2d(output_size=(1, 1))\n",
            "  (fc): Linear(in_features=512, out_features=10, bias=True)\n",
            ")>\n"
          ]
        }
      ]
    },
    {
      "cell_type": "code",
      "source": [
        "#Defining Loss function, Optimizer and Scheduler\n",
        "model2 = model2.to(device)\n",
        "criterion = nn.CrossEntropyLoss()\n",
        "optimizer = optim.SGD(model2.parameters(), lr=0.001,\n",
        "                      momentum=0.9, weight_decay=5e-4)\n",
        "scheduler = torch.optim.lr_scheduler.CosineAnnealingLR(optimizer, T_max=5)"
      ],
      "metadata": {
        "id": "pZc-6hCOxgSE"
      },
      "execution_count": null,
      "outputs": []
    },
    {
      "cell_type": "code",
      "source": [
        "for epoch in range(start_epoch, start_epoch+15):\n",
        "    train(model2,epoch)\n",
        "    test(model2,epoch)\n",
        "    scheduler.step()"
      ],
      "metadata": {
        "colab": {
          "base_uri": "https://localhost:8080/"
        },
        "id": "cYlflT0Wg33w",
        "outputId": "702ad73d-d8d4-4f38-e06d-006c3aa775e8"
      },
      "execution_count": null,
      "outputs": [
        {
          "output_type": "stream",
          "name": "stdout",
          "text": [
            "\n",
            "Epoch: 0\n",
            " [================================================================>]  Step: 89ms | Tot: 1m37s | Loss: 0.025 | Acc: 99.760% (39904/40000)\n",
            " [================================================================>]  Step: 55ms | Tot: 21s927ms | Loss: 0.337 | Acc: 90.170% (9017/10000)\n",
            "Saving..\n",
            "\n",
            "Epoch: 1\n",
            " [================================================================>]  Step: 89ms | Tot: 1m38s | Loss: 0.018 | Acc: 99.830% (39932/40000)\n",
            " [================================================================>]  Step: 68ms | Tot: 21s724ms | Loss: 0.334 | Acc: 90.370% (9037/10000)\n",
            "Saving..\n",
            "\n",
            "Epoch: 2\n",
            " [================================================================>]  Step: 88ms | Tot: 1m37s | Loss: 0.014 | Acc: 99.897% (39959/40000)\n",
            " [================================================================>]  Step: 67ms | Tot: 21s737ms | Loss: 0.334 | Acc: 90.210% (9021/10000)\n",
            "\n",
            "Epoch: 3\n",
            " [================================================================>]  Step: 90ms | Tot: 1m37s | Loss: 0.011 | Acc: 99.933% (39973/40000)\n",
            " [================================================================>]  Step: 51ms | Tot: 23s212ms | Loss: 0.332 | Acc: 90.610% (9061/10000)\n",
            "Saving..\n",
            "\n",
            "Epoch: 4\n",
            " [================================================================>]  Step: 81ms | Tot: 1m36s | Loss: 0.010 | Acc: 99.960% (39984/40000)\n",
            " [================================================================>]  Step: 54ms | Tot: 23s152ms | Loss: 0.331 | Acc: 90.470% (9047/10000)\n",
            "\n",
            "Epoch: 5\n",
            " [================================================================>]  Step: 88ms | Tot: 1m37s | Loss: 0.010 | Acc: 99.963% (39985/40000)\n",
            " [================================================================>]  Step: 58ms | Tot: 21s745ms | Loss: 0.334 | Acc: 90.310% (9031/10000)\n",
            "\n",
            "Epoch: 6\n",
            " [================================================================>]  Step: 83ms | Tot: 1m37s | Loss: 0.010 | Acc: 99.950% (39980/40000)\n",
            " [================================================================>]  Step: 57ms | Tot: 21s868ms | Loss: 0.332 | Acc: 90.520% (9052/10000)\n",
            "\n",
            "Epoch: 7\n",
            " [================================================================>]  Step: 92ms | Tot: 1m38s | Loss: 0.010 | Acc: 99.963% (39985/40000)\n",
            " [================================================================>]  Step: 63ms | Tot: 21s885ms | Loss: 0.333 | Acc: 90.420% (9042/10000)\n",
            "\n",
            "Epoch: 8\n",
            " [================================================================>]  Step: 91ms | Tot: 1m38s | Loss: 0.009 | Acc: 99.930% (39972/40000)\n",
            " [================================================================>]  Step: 65ms | Tot: 21s900ms | Loss: 0.336 | Acc: 90.730% (9073/10000)\n",
            "Saving..\n",
            "\n",
            "Epoch: 9\n",
            " [================================================================>]  Step: 86ms | Tot: 1m39s | Loss: 0.008 | Acc: 99.960% (39984/40000)\n",
            " [================================================================>]  Step: 62ms | Tot: 21s889ms | Loss: 0.333 | Acc: 90.680% (9068/10000)\n",
            "\n",
            "Epoch: 10\n",
            " [================================================================>]  Step: 86ms | Tot: 1m43s | Loss: 0.008 | Acc: 99.972% (39989/40000)\n",
            " [================================================================>]  Step: 65ms | Tot: 21s732ms | Loss: 0.340 | Acc: 90.560% (9056/10000)\n",
            "\n",
            "Epoch: 11\n",
            " [================================================================>]  Step: 78ms | Tot: 1m38s | Loss: 0.007 | Acc: 99.968% (39987/40000)\n",
            " [================================================================>]  Step: 62ms | Tot: 22s342ms | Loss: 0.339 | Acc: 90.730% (9073/10000)\n",
            "\n",
            "Epoch: 12\n",
            " [================================================================>]  Step: 84ms | Tot: 1m38s | Loss: 0.006 | Acc: 99.978% (39991/40000)\n",
            " [================================================================>]  Step: 52ms | Tot: 23s393ms | Loss: 0.336 | Acc: 90.780% (9078/10000)\n",
            "Saving..\n",
            "\n",
            "Epoch: 13\n",
            " [================================================================>]  Step: 83ms | Tot: 1m37s | Loss: 0.005 | Acc: 99.990% (39996/40000)\n",
            " [================================================================>]  Step: 65ms | Tot: 23s484ms | Loss: 0.336 | Acc: 90.960% (9096/10000)\n",
            "Saving..\n",
            "\n",
            "Epoch: 14\n",
            " [================================================================>]  Step: 89ms | Tot: 1m38s | Loss: 0.005 | Acc: 99.995% (39998/40000)\n",
            " [================================================================>]  Step: 64ms | Tot: 21s919ms | Loss: 0.337 | Acc: 90.780% (9078/10000)\n"
          ]
        }
      ]
    },
    {
      "cell_type": "code",
      "source": [
        "import matplotlib.pyplot as plt\n",
        "import numpy as np\n",
        "\n",
        "X=np.linspace(1, len(loss_train), len(loss_train))\n",
        "y=loss_train\n",
        "y=np.array(y)\n",
        "y/=len(trainloader)\n",
        "z=loss_test\n",
        "z=np.array(z)\n",
        "z/=len(validationloader)\n",
        "\n",
        "plt.plot(X, y, color='r', label='Train Loss')\n",
        "plt.plot(X, z, color='g', label='Validation Loss')\n",
        "  \n",
        "# Naming the x-axis, y-axis and the whole graph\n",
        "plt.xlabel(\"Epochs\")\n",
        "plt.ylabel(\"Loss\")\n",
        "plt.title(\"Total Test And Validation Loss\")\n",
        "  \n",
        "# Adding legend, which helps us recognize the curve according to it's color\n",
        "plt.legend()\n",
        "  \n",
        "# To load the display window\n",
        "plt.show()"
      ],
      "metadata": {
        "colab": {
          "base_uri": "https://localhost:8080/",
          "height": 295
        },
        "id": "9uuSIYzhlVYv",
        "outputId": "4ff13558-092d-4c08-e837-53d1ab8a714d"
      },
      "execution_count": null,
      "outputs": [
        {
          "output_type": "display_data",
          "data": {
            "text/plain": [
              "<Figure size 432x288 with 1 Axes>"
            ],
            "image/png": "[encoded data removed]"
          },
          "metadata": {
            "needs_background": "light"
          }
        }
      ]
    },
    {
      "cell_type": "code",
      "source": [
        "import matplotlib.pyplot as plt\n",
        "import numpy as np\n",
        "\n",
        "X=np.linspace(1, len(loss_train[30:]), len(loss_train[30:]))\n",
        "y=loss_train[30:]\n",
        "y=np.array(y)\n",
        "y/=len(trainloader)\n",
        "z=loss_test[30:]\n",
        "z=np.array(z)\n",
        "z/=len(validationloader)\n",
        "\n",
        "plt.plot(X, y, color='r', label='Train Loss')\n",
        "plt.plot(X, z, color='g', label='Validation Loss')\n",
        "  \n",
        "# Naming the x-axis, y-axis and the whole graph\n",
        "plt.xlabel(\"Epochs\")\n",
        "plt.ylabel(\"Loss\")\n",
        "plt.title(\"Test And Validation Loss\")\n",
        "  \n",
        "# Adding legend, which helps us recognize the curve according to it's color\n",
        "plt.legend()\n",
        "  \n",
        "# To load the display window\n",
        "plt.show()"
      ],
      "metadata": {
        "colab": {
          "base_uri": "https://localhost:8080/",
          "height": 295
        },
        "id": "4uc9PfVZloaP",
        "outputId": "5448dfb5-c3b3-4a23-c6d1-1451385cff02"
      },
      "execution_count": null,
      "outputs": [
        {
          "output_type": "display_data",
          "data": {
            "text/plain": [
              "<Figure size 432x288 with 1 Axes>"
            ],
            "image/png": "[encoded data removed]"
          },
          "metadata": {
            "needs_background": "light"
          }
        }
      ]
    },
    {
      "cell_type": "code",
      "source": [
        "model_save_name = 'checkpoint2.pt'\n",
        "path = F\"/content/gdrive/My Drive/{model_save_name}\" \n",
        "torch.save(model2, path)"
      ],
      "metadata": {
        "id": "X_DK5t2Hlv6d"
      },
      "execution_count": null,
      "outputs": []
    },
    {
      "cell_type": "code",
      "source": [
        "#Testing Test Set\n",
        "correct = 0\n",
        "total = 0\n",
        "\n",
        "with torch.no_grad():\n",
        "    for data in testloader:\n",
        "        images, labels = data\n",
        "        images,labels=images.to(device),labels.to(device)\n",
        "\n",
        "        outputs = model2(images)\n",
        "\n",
        "        _, predicted = torch.max(outputs.data, 1)\n",
        "        total += labels.size(0)\n",
        "        correct += (predicted == labels).sum().item()\n",
        "\n",
        "print(f'Accuracy of the network on the 10000 test images: {100 * correct / total} %')"
      ],
      "metadata": {
        "colab": {
          "base_uri": "https://localhost:8080/"
        },
        "id": "uLrxSc7upAgG",
        "outputId": "2f3b8e81-3f01-4d20-9b16-2e581b525901"
      },
      "execution_count": null,
      "outputs": [
        {
          "output_type": "stream",
          "name": "stdout",
          "text": [
            "Accuracy of the network on the 10000 test images: 89.94 %\n"
          ]
        }
      ]
    },
    {
      "cell_type": "code",
      "source": [
        "model3=torch.hub.load('pytorch/vision:v0.10.0', 'resnet18', pretrained=True)\n",
        "model3.fc = nn.Linear(512, 10)\n",
        "for param in model3.parameters(): \n",
        "  param.requires_grad = False\n",
        "for param in model3.fc.parameters(): \n",
        "  param.requires_grad = True\n",
        "for param in model3.layer4.parameters():\n",
        "  param.requires_grad = True\n",
        "model3 = model3.to(device)\n",
        "criterion = nn.CrossEntropyLoss()\n",
        "optimizer = optim.SGD(model3.parameters(), lr=0.001,\n",
        "                      momentum=0.9, weight_decay=5e-4)\n",
        "scheduler = torch.optim.lr_scheduler.CosineAnnealingLR(optimizer, T_max=15)"
      ],
      "metadata": {
        "id": "Abcafy9w6aGD",
        "colab": {
          "base_uri": "https://localhost:8080/"
        },
        "outputId": "f6c26189-07d3-449d-da0e-1c3d7e62d753"
      },
      "execution_count": 8,
      "outputs": [
        {
          "output_type": "stream",
          "name": "stderr",
          "text": [
            "Using cache found in /root/.cache/torch/hub/pytorch_vision_v0.10.0\n"
          ]
        }
      ]
    },
    {
      "cell_type": "code",
      "source": [
        "for epoch in range(start_epoch, start_epoch+15):\n",
        "    train(model3,epoch)\n",
        "    test(model3,epoch)\n",
        "    scheduler.step()"
      ],
      "metadata": {
        "colab": {
          "base_uri": "https://localhost:8080/"
        },
        "id": "vtbYdaPBZXzK",
        "outputId": "eaf4c830-0bfa-4c6f-dcde-5d0106578d12"
      },
      "execution_count": 9,
      "outputs": [
        {
          "output_type": "stream",
          "name": "stdout",
          "text": [
            "\n",
            "Epoch: 0\n",
            " [================================================================>]  Step: 74ms | Tot: 1m24s | Loss: 0.745 | Acc: 75.585% (30234/40000)\n",
            " [================================================================>]  Step: 54ms | Tot: 22s311ms | Loss: 0.445 | Acc: 84.920% (8492/10000)\n",
            "Saving..\n",
            "\n",
            "Epoch: 1\n",
            " [================================================================>]  Step: 76ms | Tot: 1m26s | Loss: 0.388 | Acc: 86.907% (34763/40000)\n",
            " [================================================================>]  Step: 65ms | Tot: 20s974ms | Loss: 0.377 | Acc: 87.210% (8721/10000)\n",
            "Saving..\n",
            "\n",
            "Epoch: 2\n",
            " [================================================================>]  Step: 75ms | Tot: 1m27s | Loss: 0.289 | Acc: 90.115% (36046/40000)\n",
            " [================================================================>]  Step: 49ms | Tot: 20s854ms | Loss: 0.342 | Acc: 88.310% (8831/10000)\n",
            "Saving..\n",
            "\n",
            "Epoch: 3\n",
            " [================================================================>]  Step: 78ms | Tot: 1m26s | Loss: 0.214 | Acc: 92.953% (37181/40000)\n",
            " [================================================================>]  Step: 53ms | Tot: 20s439ms | Loss: 0.332 | Acc: 88.770% (8877/10000)\n",
            "Saving..\n",
            "\n",
            "Epoch: 4\n",
            " [================================================================>]  Step: 78ms | Tot: 1m26s | Loss: 0.164 | Acc: 94.882% (37953/40000)\n",
            " [================================================================>]  Step: 52ms | Tot: 20s491ms | Loss: 0.324 | Acc: 89.330% (8933/10000)\n",
            "Saving..\n",
            "\n",
            "Epoch: 5\n",
            " [================================================================>]  Step: 72ms | Tot: 1m26s | Loss: 0.122 | Acc: 96.530% (38612/40000)\n",
            " [================================================================>]  Step: 55ms | Tot: 20s691ms | Loss: 0.322 | Acc: 89.250% (8925/10000)\n",
            "\n",
            "Epoch: 6\n",
            " [================================================================>]  Step: 85ms | Tot: 1m26s | Loss: 0.094 | Acc: 97.573% (39029/40000)\n",
            " [================================================================>]  Step: 54ms | Tot: 20s620ms | Loss: 0.323 | Acc: 89.390% (8939/10000)\n",
            "Saving..\n",
            "\n",
            "Epoch: 7\n",
            " [================================================================>]  Step: 80ms | Tot: 1m26s | Loss: 0.072 | Acc: 98.345% (39338/40000)\n",
            " [================================================================>]  Step: 59ms | Tot: 20s333ms | Loss: 0.333 | Acc: 89.360% (8936/10000)\n",
            "\n",
            "Epoch: 8\n",
            " [================================================================>]  Step: 71ms | Tot: 1m27s | Loss: 0.059 | Acc: 98.875% (39550/40000)\n",
            " [================================================================>]  Step: 47ms | Tot: 20s564ms | Loss: 0.334 | Acc: 89.380% (8938/10000)\n",
            "\n",
            "Epoch: 9\n",
            " [================================================================>]  Step: 79ms | Tot: 1m27s | Loss: 0.049 | Acc: 99.157% (39663/40000)\n",
            " [================================================================>]  Step: 65ms | Tot: 20s444ms | Loss: 0.338 | Acc: 89.390% (8939/10000)\n",
            "\n",
            "Epoch: 10\n",
            " [================================================================>]  Step: 76ms | Tot: 1m26s | Loss: 0.045 | Acc: 99.290% (39716/40000)\n",
            " [================================================================>]  Step: 55ms | Tot: 20s749ms | Loss: 0.337 | Acc: 89.460% (8946/10000)\n",
            "Saving..\n",
            "\n",
            "Epoch: 11\n",
            " [================================================================>]  Step: 72ms | Tot: 1m27s | Loss: 0.040 | Acc: 99.403% (39761/40000)\n",
            " [================================================================>]  Step: 52ms | Tot: 21s131ms | Loss: 0.337 | Acc: 89.640% (8964/10000)\n",
            "Saving..\n",
            "\n",
            "Epoch: 12\n",
            " [================================================================>]  Step: 78ms | Tot: 1m26s | Loss: 0.038 | Acc: 99.510% (39804/40000)\n",
            " [================================================================>]  Step: 51ms | Tot: 20s358ms | Loss: 0.337 | Acc: 89.580% (8958/10000)\n",
            "\n",
            "Epoch: 13\n",
            " [================================================================>]  Step: 75ms | Tot: 1m26s | Loss: 0.037 | Acc: 99.532% (39813/40000)\n",
            " [================================================================>]  Step: 60ms | Tot: 20s569ms | Loss: 0.343 | Acc: 89.390% (8939/10000)\n",
            "\n",
            "Epoch: 14\n",
            " [================================================================>]  Step: 78ms | Tot: 1m26s | Loss: 0.037 | Acc: 99.513% (39805/40000)\n",
            " [================================================================>]  Step: 59ms | Tot: 20s461ms | Loss: 0.337 | Acc: 89.480% (8948/10000)\n"
          ]
        }
      ]
    },
    {
      "cell_type": "code",
      "source": [
        ""
      ],
      "metadata": {
        "id": "0-0-5JEeoQRr"
      },
      "execution_count": null,
      "outputs": []
    },
    {
      "cell_type": "code",
      "source": [
        "import matplotlib.pyplot as plt\n",
        "import numpy as np\n",
        "\n",
        "X=np.linspace(1, len(loss_train[:15]), len(loss_train[:15]))\n",
        "y=loss_train[:15]\n",
        "y=np.array(y)\n",
        "y/=len(trainloader)\n",
        "z=seq1loss_train\n",
        "plt.plot(X, y, color='r', label='Training Loss without sequential update')\n",
        "plt.plot(X, z, color='g', label='Training Loss with sequential update')\n",
        "  \n",
        "# Naming the x-axis, y-axis and the whole graph\n",
        "plt.xlabel(\"Epochs\")\n",
        "plt.ylabel(\"Loss\")\n",
        "plt.title(\"Training after unfreezing layer 4\")\n",
        "  \n",
        "# Adding legend, which helps us recognize the curve according to it's color\n",
        "plt.legend()\n",
        "  \n",
        "# To load the display window\n",
        "plt.show()\n",
        "#HERE IT IS CLEAR THAT TILL THE BEST CONVERGENCE IN TRAIN LOSS, SEQUENTIAL UPDATE IS FASTER"
      ],
      "metadata": {
        "colab": {
          "base_uri": "https://localhost:8080/",
          "height": 295
        },
        "id": "fqDqRsC3Z0rZ",
        "outputId": "b66e1dcb-7fd1-4fe9-9451-e6761415879c"
      },
      "execution_count": 35,
      "outputs": [
        {
          "output_type": "display_data",
          "data": {
            "text/plain": [
              "<Figure size 432x288 with 1 Axes>"
            ],
            "image/png": "[encoded data removed]"
          },
          "metadata": {
            "needs_background": "light"
          }
        }
      ]
    },
    {
      "cell_type": "code",
      "source": [
        "model_save_name = 'checkpoint3.pt'\n",
        "path = F\"/content/gdrive/My Drive/{model_save_name}\" \n",
        "torch.save(model3, path)"
      ],
      "metadata": {
        "id": "a0LX0ptkw5h0"
      },
      "execution_count": 38,
      "outputs": []
    }
  ]
}